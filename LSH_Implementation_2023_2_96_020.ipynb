{
  "nbformat": 4,
  "nbformat_minor": 0,
  "metadata": {
    "colab": {
      "provenance": [],
      "authorship_tag": "ABX9TyNSYZiEbJEHjdVUCO3rdTN3",
      "include_colab_link": true
    },
    "kernelspec": {
      "name": "python3",
      "display_name": "Python 3"
    },
    "language_info": {
      "name": "python"
    }
  },
  "cells": [
    {
      "cell_type": "markdown",
      "metadata": {
        "id": "view-in-github",
        "colab_type": "text"
      },
      "source": [
        "<a href=\"https://colab.research.google.com/github/raisulislam0/Practice/blob/master/LSH_Implementation_2023_2_96_020.ipynb\" target=\"_parent\"><img src=\"https://colab.research.google.com/assets/colab-badge.svg\" alt=\"Open In Colab\"/></a>"
      ]
    },
    {
      "cell_type": "code",
      "source": [
        "#Define the LSH Class\n",
        "\n",
        "import numpy as np\n",
        "from collections import defaultdict\n",
        "\n",
        "class LSH:\n",
        "    def __init__(self, num_hash_tables, hash_size, input_dim, bucket_size=4, num_candidates=10):\n",
        "        self.num_hash_tables = num_hash_tables\n",
        "        self.hash_size = hash_size\n",
        "        self.input_dim = input_dim\n",
        "        self.bucket_size = bucket_size\n",
        "        self.num_candidates = num_candidates\n",
        "        self.hash_tables = [defaultdict(list) for _ in range(num_hash_tables)]\n",
        "        self.hash_functions = [self._create_hash_function() for _ in range(num_hash_tables)]\n",
        "\n",
        "    def _create_hash_function(self):\n",
        "        random_vectors = np.random.randn(self.hash_size, self.input_dim)\n",
        "        random_offsets = np.random.uniform(0, self.bucket_size, self.hash_size)\n",
        "        return random_vectors, random_offsets\n",
        "\n",
        "    def _hash(self, hash_function, vector):\n",
        "        random_vectors, random_offsets = hash_function\n",
        "        projections = np.dot(random_vectors, vector)\n",
        "        return tuple(((projections + random_offsets) // self.bucket_size).astype(int))\n",
        "\n",
        "    def insert(self, vector, value):\n",
        "        for table, hash_function in zip(self.hash_tables, self.hash_functions):\n",
        "            hash_value = self._hash(hash_function, vector)\n",
        "            table[hash_value].append(value)\n",
        "\n",
        "    def query(self, vector, num_neighbors=1):\n",
        "        candidates = set()\n",
        "        for table, hash_function in zip(self.hash_tables, self.hash_functions):\n",
        "            hash_value = self._hash(hash_function, vector)\n",
        "            candidates.update(table[hash_value])\n",
        "\n",
        "        if not candidates:\n",
        "            return []\n",
        "\n",
        "        candidates = list(candidates)\n",
        "        distances = np.linalg.norm(np.array([vector - data_points[c] for c in candidates]), axis=1)\n",
        "        nearest_neighbors = sorted(zip(distances, candidates))[:num_neighbors]\n",
        "        return [neighbor for _, neighbor in nearest_neighbors]\n"
      ],
      "metadata": {
        "id": "XlZv-DDibclO"
      },
      "execution_count": 7,
      "outputs": []
    },
    {
      "cell_type": "code",
      "source": [
        "# Parameters\n",
        "num_hash_tables = 5\n",
        "hash_size = 10\n",
        "input_dim = 128\n",
        "bucket_size = 4\n",
        "num_candidates = 10\n",
        "\n",
        "# Initialize LSH\n",
        "lsh = LSH(num_hash_tables, hash_size, input_dim, bucket_size, num_candidates)\n",
        "\n",
        "# Create some random vectors (data points)\n",
        "data_points = [np.random.randn(input_dim) for _ in range(100)]\n",
        "\n",
        "# Insert data points into LSH\n",
        "for i, point in enumerate(data_points):\n",
        "    lsh.insert(point, i)\n",
        "\n",
        "# Query for the nearest neighbors of a random point\n",
        "query_point = np.random.randn(input_dim)\n",
        "neighbors = lsh.query(query_point, num_neighbors=5)\n",
        "\n",
        "print(\"Query Point:\", query_point)\n",
        "print(\"Nearest Neighbors:\", neighbors)\n",
        "print(\"Nearest Neighbors Data Points:\", [data_points[n] for n in neighbors])\n"
      ],
      "metadata": {
        "colab": {
          "base_uri": "https://localhost:8080/"
        },
        "id": "x5Kb5v5jcWcp",
        "outputId": "81f9f1e3-d337-43fd-e65f-3fb079cedf71"
      },
      "execution_count": 8,
      "outputs": [
        {
          "output_type": "stream",
          "name": "stdout",
          "text": [
            "Query Point: [ 0.50503622 -0.68786517 -0.13297794 -0.4654563   0.5749987  -0.1662583\n",
            "  1.67263525  0.5717302   2.09563576 -1.44077891 -0.29325832  0.86833582\n",
            " -1.98830844 -0.75766831 -0.34332651 -2.74197117  1.34417364 -1.02521426\n",
            "  0.88794761 -1.36912366  1.66490102 -0.15835791 -1.92326506  0.47052152\n",
            "  0.60961255 -0.08719648 -0.27857298  1.01790723  0.32334695 -1.48718359\n",
            " -0.02545961 -0.94650123  0.97028655 -0.78736249  0.70393384  1.94204863\n",
            "  1.59847819  0.26068782  0.74431832 -1.3929055  -0.58759719  0.45673157\n",
            " -1.16275556 -1.08604691 -0.04634322  0.8250251   1.48118178  0.23711648\n",
            " -0.08395563 -0.25141256  1.69341009  1.4980886  -0.7652553   0.17152349\n",
            "  0.42064581 -1.50936939  2.34031384  1.0435222   0.14904263 -0.74609373\n",
            "  0.0896909   0.05881379 -0.04717356 -0.32208981 -0.32769672 -1.08301451\n",
            "  0.66833304 -0.15822636  0.04777483 -1.76421533 -0.67037035 -1.81781462\n",
            " -1.97864191 -1.69793069 -0.2387826  -1.23446789  0.75796086  1.24243073\n",
            " -1.4538087  -1.77509175  1.33646138 -0.22072917 -1.88379905  0.51117031\n",
            "  0.19641792  0.79036385  0.19948541  1.10631504  0.22475596 -0.64683249\n",
            "  0.63445594 -0.8238194  -1.01410214  0.51148712 -0.47752609 -0.56841983\n",
            " -0.76797328  0.86383557  0.0405965   0.21295243 -0.89332424  0.81905097\n",
            " -0.67426077 -0.93155924 -0.29657074  0.51631746 -0.34323648 -0.8181726\n",
            "  2.45791516  1.70253694 -0.19710082  1.51912188 -0.19554954 -1.53815603\n",
            "  0.9011646  -1.78323889  1.46533774  0.59297034  0.34721511 -0.17494239\n",
            "  0.44254184  0.42679774 -2.25585864  0.3488828  -0.10428905 -0.82125558\n",
            " -0.17704753 -0.15818453]\n",
            "Nearest Neighbors: []\n",
            "Nearest Neighbors Data Points: []\n"
          ]
        }
      ]
    }
  ]
}