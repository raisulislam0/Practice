{
  "nbformat": 4,
  "nbformat_minor": 0,
  "metadata": {
    "colab": {
      "provenance": [],
      "authorship_tag": "ABX9TyNPiCJArz7Bvv56QTEcwgyD",
      "include_colab_link": true
    },
    "kernelspec": {
      "name": "python3",
      "display_name": "Python 3"
    },
    "language_info": {
      "name": "python"
    }
  },
  "cells": [
    {
      "cell_type": "markdown",
      "metadata": {
        "id": "view-in-github",
        "colab_type": "text"
      },
      "source": [
        "<a href=\"https://colab.research.google.com/github/raisulislam0/Practice/blob/master/smart_agriculture.ipynb\" target=\"_parent\"><img src=\"https://colab.research.google.com/assets/colab-badge.svg\" alt=\"Open In Colab\"/></a>"
      ]
    },
    {
      "cell_type": "code",
      "execution_count": 1,
      "metadata": {
        "id": "M_bHU4V-Werh"
      },
      "outputs": [],
      "source": [
        "import numpy as np\n",
        "import pandas as pd"
      ]
    },
    {
      "cell_type": "code",
      "source": [
        "import matplotlib.pyplot as plt\n",
        "import seaborn as sns\n",
        "from ipywidgets import interact"
      ],
      "metadata": {
        "id": "N6PHnavCX5UO"
      },
      "execution_count": 2,
      "outputs": []
    },
    {
      "cell_type": "code",
      "source": [
        "data = pd.read_csv(\"Crop_recommendation.csv\")\n",
        "data1=pd.read_csv(\"Crop_recommendation.csv\")"
      ],
      "metadata": {
        "id": "TjkozRyFYN2m"
      },
      "execution_count": 3,
      "outputs": []
    },
    {
      "cell_type": "code",
      "source": [
        "from sklearn.cluster import KMeans\n",
        "\n",
        "# removing the labels column\n",
        "x = data.drop(['label'], axis=1)\n",
        "\n",
        "# selecting all the values of the data\n",
        "x = x.values\n",
        "\n",
        "# checking the shape\n",
        "print(x.shape)"
      ],
      "metadata": {
        "colab": {
          "base_uri": "https://localhost:8080/"
        },
        "id": "Gc92xy1m1SfY",
        "outputId": "237c9565-0936-42fd-d5b6-2137abfc0ef0"
      },
      "execution_count": 18,
      "outputs": [
        {
          "output_type": "stream",
          "name": "stdout",
          "text": [
            "(2200, 7)\n"
          ]
        }
      ]
    },
    {
      "cell_type": "code",
      "source": [
        "# Lets determine the Optimum Number of Clusters within the Dataset\n",
        "\n",
        "plt.rcParams['figure.figsize'] = (10, 4)\n",
        "\n",
        "wcss = []\n",
        "for i in range(1, 11):\n",
        "    km = KMeans(n_clusters = i, init = 'k-means++', max_iter = 300, n_init = 10, random_state = 0)\n",
        "    km.fit(x)\n",
        "    wcss.append(km.inertia_)\n",
        "\n",
        "# Lets plot the results\n",
        "plt.plot(range(1, 11), wcss)\n",
        "plt.title('The Elbow Method', fontsize = 20)\n",
        "plt.xlabel('No. of Clusters')\n",
        "plt.ylabel('wcss')\n",
        "plt.show()"
      ],
      "metadata": {
        "colab": {
          "base_uri": "https://localhost:8080/",
          "height": 418
        },
        "id": "wUHTPDwG4AiK",
        "outputId": "274dff6f-a2a8-4f96-a3f5-cee18995876d"
      },
      "execution_count": 19,
      "outputs": [
        {
          "output_type": "display_data",
          "data": {
            "text/plain": [
              "<Figure size 1000x400 with 1 Axes>"
            ],
            "image/png": "[encoded data removed]"
          },
          "metadata": {}
        }
      ]
    },
    {
      "cell_type": "code",
      "source": [
        "# Lets implement the K Means algorithm to perform Clustering analysis\n",
        "km =KMeans(n_clusters = 4, init = 'k-means++', max_iter = 300, n_init = 10, random_state = 0)\n",
        "y_means = km.fit_predict(x)\n",
        "# Lets find out the Results\n",
        "a = data['label']\n",
        "y_means = pd.DataFrame(y_means)\n",
        "z = pd.concat([y_means, a], axis = 1)\n",
        "z = z.rename(columns = {0: 'cluster'})\n",
        "\n",
        "# Lets check the Clusters of each Crops\n",
        "print(\"Lets check the Results After Applying the K Means Clustering Analysis \\n\")\n",
        "print(\"Crops in First cluster:\", z[z['cluster'] == 0][ 'label'].unique())\n",
        "print(\"----------------------------------------------------------------\")\n",
        "print(\"Crops in Second cluster:\", z[z['cluster'] == 1][ 'label'].unique())\n",
        "print(\"----------------------------------------------------------------\")\n",
        "print(\"Crops in Third cluster:\", z[z['cluster'] == 2][ 'label'].unique())\n",
        "print(\"----------------------------------------------------------------\")\n",
        "print(\"Crops in Forth cluster:\", z[z['cluster'] == 3][ 'label'].unique())"
      ],
      "metadata": {
        "colab": {
          "base_uri": "https://localhost:8080/"
        },
        "id": "q1PNac3P7YzZ",
        "outputId": "9fcdfc2b-8f65-4218-d30f-2fdede0470c3"
      },
      "execution_count": 20,
      "outputs": [
        {
          "output_type": "stream",
          "name": "stdout",
          "text": [
            "Lets check the Results After Applying the K Means Clustering Analysis \n",
            "\n",
            "Crops in First cluster: ['maize' 'chickpea' 'kidneybeans' 'pigeonpeas' 'mothbeans' 'mungbean'\n",
            " 'blackgram' 'lentil' 'pomegranate' 'mango' 'orange' 'papaya' 'coconut']\n",
            "----------------------------------------------------------------\n",
            "Crops in Second cluster: ['maize' 'banana' 'watermelon' 'muskmelon' 'papaya' 'cotton' 'coffee']\n",
            "----------------------------------------------------------------\n",
            "Crops in Third cluster: ['grapes' 'apple']\n",
            "----------------------------------------------------------------\n",
            "Crops in Forth cluster: ['rice' 'pigeonpeas' 'papaya' 'coconut' 'jute' 'coffee']\n"
          ]
        }
      ]
    },
    {
      "cell_type": "code",
      "source": [
        "y = data['label']\n",
        "x = data.drop(['label'], axis = 1)\n",
        "\n",
        "print(\"Shape of x:\", x.shape)\n",
        "print(\"shape of y:\", y.shape)"
      ],
      "metadata": {
        "colab": {
          "base_uri": "https://localhost:8080/"
        },
        "id": "blnhS_5L7ZJp",
        "outputId": "7e4d61f1-f1d8-44a9-a0d2-fe74fdb59f79"
      },
      "execution_count": 21,
      "outputs": [
        {
          "output_type": "stream",
          "name": "stdout",
          "text": [
            "Shape of x: (2200, 7)\n",
            "shape of y: (2200,)\n"
          ]
        }
      ]
    },
    {
      "cell_type": "code",
      "source": [
        "y.sample(10)"
      ],
      "metadata": {
        "colab": {
          "base_uri": "https://localhost:8080/"
        },
        "id": "stpMkJL_7ZMJ",
        "outputId": "a356e288-7bea-477b-893a-d7ab7984f8f3"
      },
      "execution_count": 22,
      "outputs": [
        {
          "output_type": "execute_result",
          "data": {
            "text/plain": [
              "836         lentil\n",
              "454     pigeonpeas\n",
              "1125         mango\n",
              "1066        banana\n",
              "1784        papaya\n",
              "1542         apple\n",
              "2011          jute\n",
              "1676        orange\n",
              "1182         mango\n",
              "1748        papaya\n",
              "Name: label, dtype: object"
            ]
          },
          "metadata": {},
          "execution_count": 22
        }
      ]
    },
    {
      "cell_type": "code",
      "source": [
        "# Lets create Training and Testing Sets for Validation of Results\n",
        "from sklearn.model_selection import train_test_split\n",
        "\n",
        "x_train, x_test, y_train, y_test = train_test_split(x, y, test_size = 0.2, random_state = 0)\n",
        "\n",
        "print(\"The Shape of x train:\", x_train.shape)\n",
        "print(\"The Shape of x test:\", x_test.shape)\n",
        "print(\"The Shape of y train:\", y_train.shape)\n",
        "print(\"The Shape of y test:\", x_test.shape)"
      ],
      "metadata": {
        "colab": {
          "base_uri": "https://localhost:8080/"
        },
        "id": "ANs1jmza7ZOf",
        "outputId": "7ddf2611-912a-4ab8-ff6d-82ff3e0f2053"
      },
      "execution_count": 23,
      "outputs": [
        {
          "output_type": "stream",
          "name": "stdout",
          "text": [
            "The Shape of x train: (1760, 7)\n",
            "The Shape of x test: (440, 7)\n",
            "The Shape of y train: (1760,)\n",
            "The Shape of y test: (440, 7)\n"
          ]
        }
      ]
    },
    {
      "cell_type": "code",
      "source": [
        "from sklearn.preprocessing import StandardScaler\n",
        "\n",
        "scaler = StandardScaler()\n",
        "x_train_scaled = scaler.fit_transform(x_train)\n",
        "x_test_scaled = scaler.transform(x_test)\n",
        "\n",
        "model = LogisticRegression(max_iter=1000)\n",
        "model.fit(x_train_scaled, y_train)\n",
        "y_pred = model.predict(x_test_scaled)\n",
        "\n"
      ],
      "metadata": {
        "colab": {
          "base_uri": "https://localhost:8080/",
          "height": 222
        },
        "id": "VATIxYzF_Mk3",
        "outputId": "10abc84b-d763-4633-e8a9-50031bd24955"
      },
      "execution_count": 25,
      "outputs": [
        {
          "output_type": "error",
          "ename": "NameError",
          "evalue": "name 'LogisticRegression' is not defined",
          "traceback": [
            "\u001b[0;31m---------------------------------------------------------------------------\u001b[0m",
            "\u001b[0;31mNameError\u001b[0m                                 Traceback (most recent call last)",
            "\u001b[0;32m<ipython-input-25-dc937e56bf57>\u001b[0m in \u001b[0;36m<cell line: 7>\u001b[0;34m()\u001b[0m\n\u001b[1;32m      5\u001b[0m \u001b[0mx_test_scaled\u001b[0m \u001b[0;34m=\u001b[0m \u001b[0mscaler\u001b[0m\u001b[0;34m.\u001b[0m\u001b[0mtransform\u001b[0m\u001b[0;34m(\u001b[0m\u001b[0mx_test\u001b[0m\u001b[0;34m)\u001b[0m\u001b[0;34m\u001b[0m\u001b[0;34m\u001b[0m\u001b[0m\n\u001b[1;32m      6\u001b[0m \u001b[0;34m\u001b[0m\u001b[0m\n\u001b[0;32m----> 7\u001b[0;31m \u001b[0mmodel\u001b[0m \u001b[0;34m=\u001b[0m \u001b[0mLogisticRegression\u001b[0m\u001b[0;34m(\u001b[0m\u001b[0mmax_iter\u001b[0m\u001b[0;34m=\u001b[0m\u001b[0;36m1000\u001b[0m\u001b[0;34m)\u001b[0m\u001b[0;34m\u001b[0m\u001b[0;34m\u001b[0m\u001b[0m\n\u001b[0m\u001b[1;32m      8\u001b[0m \u001b[0mmodel\u001b[0m\u001b[0;34m.\u001b[0m\u001b[0mfit\u001b[0m\u001b[0;34m(\u001b[0m\u001b[0mx_train_scaled\u001b[0m\u001b[0;34m,\u001b[0m \u001b[0my_train\u001b[0m\u001b[0;34m)\u001b[0m\u001b[0;34m\u001b[0m\u001b[0;34m\u001b[0m\u001b[0m\n\u001b[1;32m      9\u001b[0m \u001b[0my_pred\u001b[0m \u001b[0;34m=\u001b[0m \u001b[0mmodel\u001b[0m\u001b[0;34m.\u001b[0m\u001b[0mpredict\u001b[0m\u001b[0;34m(\u001b[0m\u001b[0mx_test_scaled\u001b[0m\u001b[0;34m)\u001b[0m\u001b[0;34m\u001b[0m\u001b[0;34m\u001b[0m\u001b[0m\n",
            "\u001b[0;31mNameError\u001b[0m: name 'LogisticRegression' is not defined"
          ]
        }
      ]
    },
    {
      "cell_type": "code",
      "source": [
        "# Lets evaluate the Model Performance\n",
        "from sklearn.metrics import confusion_matrix\n",
        "\n",
        "# Lets print the Confusion matrix first\n",
        "plt.rcParams['figure.figsize'] = (10, 10)\n",
        "cm = confusion_matrix(y_test, y_pred)\n",
        "sns.heatmap(cm, annot=True, cmap='Wistia')\n",
        "plt.title('Confusion Matrix for Logistic Regression', fontsize=15)\n",
        "plt.show()"
      ],
      "metadata": {
        "colab": {
          "base_uri": "https://localhost:8080/",
          "height": 222
        },
        "id": "SJNQfNSS_bhi",
        "outputId": "34168c26-4df8-4c9f-9b0a-275bd511f37f"
      },
      "execution_count": 26,
      "outputs": [
        {
          "output_type": "error",
          "ename": "NameError",
          "evalue": "name 'y_pred' is not defined",
          "traceback": [
            "\u001b[0;31m---------------------------------------------------------------------------\u001b[0m",
            "\u001b[0;31mNameError\u001b[0m                                 Traceback (most recent call last)",
            "\u001b[0;32m<ipython-input-26-09c08fe52428>\u001b[0m in \u001b[0;36m<cell line: 6>\u001b[0;34m()\u001b[0m\n\u001b[1;32m      4\u001b[0m \u001b[0;31m# Lets print the Confusion matrix first\u001b[0m\u001b[0;34m\u001b[0m\u001b[0;34m\u001b[0m\u001b[0m\n\u001b[1;32m      5\u001b[0m \u001b[0mplt\u001b[0m\u001b[0;34m.\u001b[0m\u001b[0mrcParams\u001b[0m\u001b[0;34m[\u001b[0m\u001b[0;34m'figure.figsize'\u001b[0m\u001b[0;34m]\u001b[0m \u001b[0;34m=\u001b[0m \u001b[0;34m(\u001b[0m\u001b[0;36m10\u001b[0m\u001b[0;34m,\u001b[0m \u001b[0;36m10\u001b[0m\u001b[0;34m)\u001b[0m\u001b[0;34m\u001b[0m\u001b[0;34m\u001b[0m\u001b[0m\n\u001b[0;32m----> 6\u001b[0;31m \u001b[0mcm\u001b[0m \u001b[0;34m=\u001b[0m \u001b[0mconfusion_matrix\u001b[0m\u001b[0;34m(\u001b[0m\u001b[0my_test\u001b[0m\u001b[0;34m,\u001b[0m \u001b[0my_pred\u001b[0m\u001b[0;34m)\u001b[0m\u001b[0;34m\u001b[0m\u001b[0;34m\u001b[0m\u001b[0m\n\u001b[0m\u001b[1;32m      7\u001b[0m \u001b[0msns\u001b[0m\u001b[0;34m.\u001b[0m\u001b[0mheatmap\u001b[0m\u001b[0;34m(\u001b[0m\u001b[0mcm\u001b[0m\u001b[0;34m,\u001b[0m \u001b[0mannot\u001b[0m\u001b[0;34m=\u001b[0m\u001b[0;32mTrue\u001b[0m\u001b[0;34m,\u001b[0m \u001b[0mcmap\u001b[0m\u001b[0;34m=\u001b[0m\u001b[0;34m'Wistia'\u001b[0m\u001b[0;34m)\u001b[0m\u001b[0;34m\u001b[0m\u001b[0;34m\u001b[0m\u001b[0m\n\u001b[1;32m      8\u001b[0m \u001b[0mplt\u001b[0m\u001b[0;34m.\u001b[0m\u001b[0mtitle\u001b[0m\u001b[0;34m(\u001b[0m\u001b[0;34m'Confusion Matrix for Logistic Regression'\u001b[0m\u001b[0;34m,\u001b[0m \u001b[0mfontsize\u001b[0m\u001b[0;34m=\u001b[0m\u001b[0;36m15\u001b[0m\u001b[0;34m)\u001b[0m\u001b[0;34m\u001b[0m\u001b[0;34m\u001b[0m\u001b[0m\n",
            "\u001b[0;31mNameError\u001b[0m: name 'y_pred' is not defined"
          ]
        }
      ]
    },
    {
      "cell_type": "code",
      "source": [
        "# Lets print the Classification Repost also\n",
        "from sklearn.metrics import classification_report\n",
        "\n",
        "cr = classification_report(y_test, y_pred)\n",
        "print(cr)"
      ],
      "metadata": {
        "colab": {
          "base_uri": "https://localhost:8080/"
        },
        "id": "h2_9z4yWAvUq",
        "outputId": "c7471286-9a6e-4d98-b5ed-86316a1c6d31"
      },
      "execution_count": 38,
      "outputs": [
        {
          "output_type": "stream",
          "name": "stdout",
          "text": [
            "              precision    recall  f1-score   support\n",
            "\n",
            "       apple       1.00      1.00      1.00        18\n",
            "      banana       1.00      1.00      1.00        18\n",
            "   blackgram       0.87      0.91      0.89        22\n",
            "    chickpea       1.00      1.00      1.00        23\n",
            "     coconut       1.00      1.00      1.00        15\n",
            "      coffee       1.00      1.00      1.00        17\n",
            "      cotton       0.94      1.00      0.97        16\n",
            "      grapes       1.00      1.00      1.00        18\n",
            "        jute       0.87      0.95      0.91        21\n",
            " kidneybeans       0.95      1.00      0.98        20\n",
            "      lentil       0.82      0.82      0.82        17\n",
            "       maize       1.00      0.94      0.97        18\n",
            "       mango       1.00      1.00      1.00        21\n",
            "   mothbeans       0.95      0.84      0.89        25\n",
            "    mungbean       1.00      1.00      1.00        17\n",
            "   muskmelon       0.96      1.00      0.98        23\n",
            "      orange       1.00      1.00      1.00        23\n",
            "      papaya       0.95      0.95      0.95        21\n",
            "  pigeonpeas       0.91      0.95      0.93        22\n",
            " pomegranate       1.00      1.00      1.00        23\n",
            "        rice       1.00      0.88      0.94        25\n",
            "  watermelon       1.00      1.00      1.00        17\n",
            "\n",
            "    accuracy                           0.96       440\n",
            "   macro avg       0.97      0.97      0.97       440\n",
            "weighted avg       0.96      0.96      0.96       440\n",
            "\n"
          ]
        }
      ]
    },
    {
      "cell_type": "code",
      "source": [
        "data.sample(20)"
      ],
      "metadata": {
        "colab": {
          "base_uri": "https://localhost:8080/",
          "height": 676
        },
        "id": "XWb_5Bp6BKAf",
        "outputId": "a026cdb2-8b05-4b0f-ea62-66db7d7b92dd"
      },
      "execution_count": 44,
      "outputs": [
        {
          "output_type": "execute_result",
          "data": {
            "text/plain": [
              "       N   P   K  temperature   humidity        ph    rainfall        label\n",
              "655   25  40  21    27.733291  81.139030  6.248901   44.175809     mungbean\n",
              "65    99  41  36    24.458021  82.748356  6.738652  182.561632         rice\n",
              "229   43  68  81    17.478094  17.932540  6.761600   78.920602     chickpea\n",
              "301   25  70  16    19.634743  18.907056  5.759237  106.359818  kidneybeans\n",
              "2078  71  56  37    23.188667  86.208997  6.491506  176.103677         jute\n",
              "649    1  48  24    29.345946  85.604726  6.232837   59.036300     mungbean\n",
              "84    67  58  39    25.282722  80.543728  5.453592  220.115671         rice\n",
              "32    85  37  39    24.527837  82.736856  6.364135  224.675723         rice\n",
              "461   20  77  23    34.872487  38.837860  5.180272  148.250279   pigeonpeas\n",
              "265   29  75  75    19.624163  18.714832  7.064790   88.458569     chickpea\n",
              "2130  98  27  27    24.713841  51.291425  7.238110  197.643971       coffee\n",
              "2136  84  27  29    23.322932  53.003663  7.167093  168.264429       coffee\n",
              "1082  90  86  55    27.962368  84.154036  5.644487   97.559867       banana\n",
              "577    7  40  17    31.212394  40.926049  8.532079   53.787700    mothbeans\n",
              "899   33  77  15    23.897364  66.321020  7.802212   40.745368       lentil\n",
              "963   13  30  37    20.864749  91.617936  6.277149  106.868564  pomegranate\n",
              "801   13  61  22    19.440843  63.277715  7.728832   46.831301       lentil\n",
              "765   58  75  25    25.255962  61.366697  7.261792   68.646851    blackgram\n",
              "222   31  78  76    17.572121  14.999275  8.519976   89.310507     chickpea\n",
              "1700  61  68  50    35.214628  91.497251  6.793245  243.074507       papaya"
            ],
            "text/html": [
              "\n",
              "  <div id=\"df-051e2ed2-c354-4881-b167-45bdeaf323a2\" class=\"colab-df-container\">\n",
              "    <div>\n",
              "<style scoped>\n",
              "    .dataframe tbody tr th:only-of-type {\n",
              "        vertical-align: middle;\n",
              "    }\n",
              "\n",
              "    .dataframe tbody tr th {\n",
              "        vertical-align: top;\n",
              "    }\n",
              "\n",
              "    .dataframe thead th {\n",
              "        text-align: right;\n",
              "    }\n",
              "</style>\n",
              "<table border=\"1\" class=\"dataframe\">\n",
              "  <thead>\n",
              "    <tr style=\"text-align: right;\">\n",
              "      <th></th>\n",
              "      <th>N</th>\n",
              "      <th>P</th>\n",
              "      <th>K</th>\n",
              "      <th>temperature</th>\n",
              "      <th>humidity</th>\n",
              "      <th>ph</th>\n",
              "      <th>rainfall</th>\n",
              "      <th>label</th>\n",
              "    </tr>\n",
              "  </thead>\n",
              "  <tbody>\n",
              "    <tr>\n",
              "      <th>655</th>\n",
              "      <td>25</td>\n",
              "      <td>40</td>\n",
              "      <td>21</td>\n",
              "      <td>27.733291</td>\n",
              "      <td>81.139030</td>\n",
              "      <td>6.248901</td>\n",
              "      <td>44.175809</td>\n",
              "      <td>mungbean</td>\n",
              "    </tr>\n",
              "    <tr>\n",
              "      <th>65</th>\n",
              "      <td>99</td>\n",
              "      <td>41</td>\n",
              "      <td>36</td>\n",
              "      <td>24.458021</td>\n",
              "      <td>82.748356</td>\n",
              "      <td>6.738652</td>\n",
              "      <td>182.561632</td>\n",
              "      <td>rice</td>\n",
              "    </tr>\n",
              "    <tr>\n",
              "      <th>229</th>\n",
              "      <td>43</td>\n",
              "      <td>68</td>\n",
              "      <td>81</td>\n",
              "      <td>17.478094</td>\n",
              "      <td>17.932540</td>\n",
              "      <td>6.761600</td>\n",
              "      <td>78.920602</td>\n",
              "      <td>chickpea</td>\n",
              "    </tr>\n",
              "    <tr>\n",
              "      <th>301</th>\n",
              "      <td>25</td>\n",
              "      <td>70</td>\n",
              "      <td>16</td>\n",
              "      <td>19.634743</td>\n",
              "      <td>18.907056</td>\n",
              "      <td>5.759237</td>\n",
              "      <td>106.359818</td>\n",
              "      <td>kidneybeans</td>\n",
              "    </tr>\n",
              "    <tr>\n",
              "      <th>2078</th>\n",
              "      <td>71</td>\n",
              "      <td>56</td>\n",
              "      <td>37</td>\n",
              "      <td>23.188667</td>\n",
              "      <td>86.208997</td>\n",
              "      <td>6.491506</td>\n",
              "      <td>176.103677</td>\n",
              "      <td>jute</td>\n",
              "    </tr>\n",
              "    <tr>\n",
              "      <th>649</th>\n",
              "      <td>1</td>\n",
              "      <td>48</td>\n",
              "      <td>24</td>\n",
              "      <td>29.345946</td>\n",
              "      <td>85.604726</td>\n",
              "      <td>6.232837</td>\n",
              "      <td>59.036300</td>\n",
              "      <td>mungbean</td>\n",
              "    </tr>\n",
              "    <tr>\n",
              "      <th>84</th>\n",
              "      <td>67</td>\n",
              "      <td>58</td>\n",
              "      <td>39</td>\n",
              "      <td>25.282722</td>\n",
              "      <td>80.543728</td>\n",
              "      <td>5.453592</td>\n",
              "      <td>220.115671</td>\n",
              "      <td>rice</td>\n",
              "    </tr>\n",
              "    <tr>\n",
              "      <th>32</th>\n",
              "      <td>85</td>\n",
              "      <td>37</td>\n",
              "      <td>39</td>\n",
              "      <td>24.527837</td>\n",
              "      <td>82.736856</td>\n",
              "      <td>6.364135</td>\n",
              "      <td>224.675723</td>\n",
              "      <td>rice</td>\n",
              "    </tr>\n",
              "    <tr>\n",
              "      <th>461</th>\n",
              "      <td>20</td>\n",
              "      <td>77</td>\n",
              "      <td>23</td>\n",
              "      <td>34.872487</td>\n",
              "      <td>38.837860</td>\n",
              "      <td>5.180272</td>\n",
              "      <td>148.250279</td>\n",
              "      <td>pigeonpeas</td>\n",
              "    </tr>\n",
              "    <tr>\n",
              "      <th>265</th>\n",
              "      <td>29</td>\n",
              "      <td>75</td>\n",
              "      <td>75</td>\n",
              "      <td>19.624163</td>\n",
              "      <td>18.714832</td>\n",
              "      <td>7.064790</td>\n",
              "      <td>88.458569</td>\n",
              "      <td>chickpea</td>\n",
              "    </tr>\n",
              "    <tr>\n",
              "      <th>2130</th>\n",
              "      <td>98</td>\n",
              "      <td>27</td>\n",
              "      <td>27</td>\n",
              "      <td>24.713841</td>\n",
              "      <td>51.291425</td>\n",
              "      <td>7.238110</td>\n",
              "      <td>197.643971</td>\n",
              "      <td>coffee</td>\n",
              "    </tr>\n",
              "    <tr>\n",
              "      <th>2136</th>\n",
              "      <td>84</td>\n",
              "      <td>27</td>\n",
              "      <td>29</td>\n",
              "      <td>23.322932</td>\n",
              "      <td>53.003663</td>\n",
              "      <td>7.167093</td>\n",
              "      <td>168.264429</td>\n",
              "      <td>coffee</td>\n",
              "    </tr>\n",
              "    <tr>\n",
              "      <th>1082</th>\n",
              "      <td>90</td>\n",
              "      <td>86</td>\n",
              "      <td>55</td>\n",
              "      <td>27.962368</td>\n",
              "      <td>84.154036</td>\n",
              "      <td>5.644487</td>\n",
              "      <td>97.559867</td>\n",
              "      <td>banana</td>\n",
              "    </tr>\n",
              "    <tr>\n",
              "      <th>577</th>\n",
              "      <td>7</td>\n",
              "      <td>40</td>\n",
              "      <td>17</td>\n",
              "      <td>31.212394</td>\n",
              "      <td>40.926049</td>\n",
              "      <td>8.532079</td>\n",
              "      <td>53.787700</td>\n",
              "      <td>mothbeans</td>\n",
              "    </tr>\n",
              "    <tr>\n",
              "      <th>899</th>\n",
              "      <td>33</td>\n",
              "      <td>77</td>\n",
              "      <td>15</td>\n",
              "      <td>23.897364</td>\n",
              "      <td>66.321020</td>\n",
              "      <td>7.802212</td>\n",
              "      <td>40.745368</td>\n",
              "      <td>lentil</td>\n",
              "    </tr>\n",
              "    <tr>\n",
              "      <th>963</th>\n",
              "      <td>13</td>\n",
              "      <td>30</td>\n",
              "      <td>37</td>\n",
              "      <td>20.864749</td>\n",
              "      <td>91.617936</td>\n",
              "      <td>6.277149</td>\n",
              "      <td>106.868564</td>\n",
              "      <td>pomegranate</td>\n",
              "    </tr>\n",
              "    <tr>\n",
              "      <th>801</th>\n",
              "      <td>13</td>\n",
              "      <td>61</td>\n",
              "      <td>22</td>\n",
              "      <td>19.440843</td>\n",
              "      <td>63.277715</td>\n",
              "      <td>7.728832</td>\n",
              "      <td>46.831301</td>\n",
              "      <td>lentil</td>\n",
              "    </tr>\n",
              "    <tr>\n",
              "      <th>765</th>\n",
              "      <td>58</td>\n",
              "      <td>75</td>\n",
              "      <td>25</td>\n",
              "      <td>25.255962</td>\n",
              "      <td>61.366697</td>\n",
              "      <td>7.261792</td>\n",
              "      <td>68.646851</td>\n",
              "      <td>blackgram</td>\n",
              "    </tr>\n",
              "    <tr>\n",
              "      <th>222</th>\n",
              "      <td>31</td>\n",
              "      <td>78</td>\n",
              "      <td>76</td>\n",
              "      <td>17.572121</td>\n",
              "      <td>14.999275</td>\n",
              "      <td>8.519976</td>\n",
              "      <td>89.310507</td>\n",
              "      <td>chickpea</td>\n",
              "    </tr>\n",
              "    <tr>\n",
              "      <th>1700</th>\n",
              "      <td>61</td>\n",
              "      <td>68</td>\n",
              "      <td>50</td>\n",
              "      <td>35.214628</td>\n",
              "      <td>91.497251</td>\n",
              "      <td>6.793245</td>\n",
              "      <td>243.074507</td>\n",
              "      <td>papaya</td>\n",
              "    </tr>\n",
              "  </tbody>\n",
              "</table>\n",
              "</div>\n",
              "    <div class=\"colab-df-buttons\">\n",
              "\n",
              "  <div class=\"colab-df-container\">\n",
              "    <button class=\"colab-df-convert\" onclick=\"convertToInteractive('df-051e2ed2-c354-4881-b167-45bdeaf323a2')\"\n",
              "            title=\"Convert this dataframe to an interactive table.\"\n",
              "            style=\"display:none;\">\n",
              "\n",
              "  <svg xmlns=\"http://www.w3.org/2000/svg\" height=\"24px\" viewBox=\"0 -960 960 960\">\n",
              "    <path d=\"M120-120v-720h720v720H120Zm60-500h600v-160H180v160Zm220 220h160v-160H400v160Zm0 220h160v-160H400v160ZM180-400h160v-160H180v160Zm440 0h160v-160H620v160ZM180-180h160v-160H180v160Zm440 0h160v-160H620v160Z\"/>\n",
              "  </svg>\n",
              "    </button>\n",
              "\n",
              "  <style>\n",
              "    .colab-df-container {\n",
              "      display:flex;\n",
              "      gap: 12px;\n",
              "    }\n",
              "\n",
              "    .colab-df-convert {\n",
              "      background-color: #E8F0FE;\n",
              "      border: none;\n",
              "      border-radius: 50%;\n",
              "      cursor: pointer;\n",
              "      display: none;\n",
              "      fill: #1967D2;\n",
              "      height: 32px;\n",
              "      padding: 0 0 0 0;\n",
              "      width: 32px;\n",
              "    }\n",
              "\n",
              "    .colab-df-convert:hover {\n",
              "      background-color: #E2EBFA;\n",
              "      box-shadow: 0px 1px 2px rgba(60, 64, 67, 0.3), 0px 1px 3px 1px rgba(60, 64, 67, 0.15);\n",
              "      fill: #174EA6;\n",
              "    }\n",
              "\n",
              "    .colab-df-buttons div {\n",
              "      margin-bottom: 4px;\n",
              "    }\n",
              "\n",
              "    [theme=dark] .colab-df-convert {\n",
              "      background-color: #3B4455;\n",
              "      fill: #D2E3FC;\n",
              "    }\n",
              "\n",
              "    [theme=dark] .colab-df-convert:hover {\n",
              "      background-color: #434B5C;\n",
              "      box-shadow: 0px 1px 3px 1px rgba(0, 0, 0, 0.15);\n",
              "      filter: drop-shadow(0px 1px 2px rgba(0, 0, 0, 0.3));\n",
              "      fill: #FFFFFF;\n",
              "    }\n",
              "  </style>\n",
              "\n",
              "    <script>\n",
              "      const buttonEl =\n",
              "        document.querySelector('#df-051e2ed2-c354-4881-b167-45bdeaf323a2 button.colab-df-convert');\n",
              "      buttonEl.style.display =\n",
              "        google.colab.kernel.accessAllowed ? 'block' : 'none';\n",
              "\n",
              "      async function convertToInteractive(key) {\n",
              "        const element = document.querySelector('#df-051e2ed2-c354-4881-b167-45bdeaf323a2');\n",
              "        const dataTable =\n",
              "          await google.colab.kernel.invokeFunction('convertToInteractive',\n",
              "                                                    [key], {});\n",
              "        if (!dataTable) return;\n",
              "\n",
              "        const docLinkHtml = 'Like what you see? Visit the ' +\n",
              "          '<a target=\"_blank\" href=https://colab.research.google.com/notebooks/data_table.ipynb>data table notebook</a>'\n",
              "          + ' to learn more about interactive tables.';\n",
              "        element.innerHTML = '';\n",
              "        dataTable['output_type'] = 'display_data';\n",
              "        await google.colab.output.renderOutput(dataTable, element);\n",
              "        const docLink = document.createElement('div');\n",
              "        docLink.innerHTML = docLinkHtml;\n",
              "        element.appendChild(docLink);\n",
              "      }\n",
              "    </script>\n",
              "  </div>\n",
              "\n",
              "\n",
              "<div id=\"df-be4c30ab-cf84-4669-9fa4-16641ce62dac\">\n",
              "  <button class=\"colab-df-quickchart\" onclick=\"quickchart('df-be4c30ab-cf84-4669-9fa4-16641ce62dac')\"\n",
              "            title=\"Suggest charts\"\n",
              "            style=\"display:none;\">\n",
              "\n",
              "<svg xmlns=\"http://www.w3.org/2000/svg\" height=\"24px\"viewBox=\"0 0 24 24\"\n",
              "     width=\"24px\">\n",
              "    <g>\n",
              "        <path d=\"M19 3H5c-1.1 0-2 .9-2 2v14c0 1.1.9 2 2 2h14c1.1 0 2-.9 2-2V5c0-1.1-.9-2-2-2zM9 17H7v-7h2v7zm4 0h-2V7h2v10zm4 0h-2v-4h2v4z\"/>\n",
              "    </g>\n",
              "</svg>\n",
              "  </button>\n",
              "\n",
              "<style>\n",
              "  .colab-df-quickchart {\n",
              "      --bg-color: #E8F0FE;\n",
              "      --fill-color: #1967D2;\n",
              "      --hover-bg-color: #E2EBFA;\n",
              "      --hover-fill-color: #174EA6;\n",
              "      --disabled-fill-color: #AAA;\n",
              "      --disabled-bg-color: #DDD;\n",
              "  }\n",
              "\n",
              "  [theme=dark] .colab-df-quickchart {\n",
              "      --bg-color: #3B4455;\n",
              "      --fill-color: #D2E3FC;\n",
              "      --hover-bg-color: #434B5C;\n",
              "      --hover-fill-color: #FFFFFF;\n",
              "      --disabled-bg-color: #3B4455;\n",
              "      --disabled-fill-color: #666;\n",
              "  }\n",
              "\n",
              "  .colab-df-quickchart {\n",
              "    background-color: var(--bg-color);\n",
              "    border: none;\n",
              "    border-radius: 50%;\n",
              "    cursor: pointer;\n",
              "    display: none;\n",
              "    fill: var(--fill-color);\n",
              "    height: 32px;\n",
              "    padding: 0;\n",
              "    width: 32px;\n",
              "  }\n",
              "\n",
              "  .colab-df-quickchart:hover {\n",
              "    background-color: var(--hover-bg-color);\n",
              "    box-shadow: 0 1px 2px rgba(60, 64, 67, 0.3), 0 1px 3px 1px rgba(60, 64, 67, 0.15);\n",
              "    fill: var(--button-hover-fill-color);\n",
              "  }\n",
              "\n",
              "  .colab-df-quickchart-complete:disabled,\n",
              "  .colab-df-quickchart-complete:disabled:hover {\n",
              "    background-color: var(--disabled-bg-color);\n",
              "    fill: var(--disabled-fill-color);\n",
              "    box-shadow: none;\n",
              "  }\n",
              "\n",
              "  .colab-df-spinner {\n",
              "    border: 2px solid var(--fill-color);\n",
              "    border-color: transparent;\n",
              "    border-bottom-color: var(--fill-color);\n",
              "    animation:\n",
              "      spin 1s steps(1) infinite;\n",
              "  }\n",
              "\n",
              "  @keyframes spin {\n",
              "    0% {\n",
              "      border-color: transparent;\n",
              "      border-bottom-color: var(--fill-color);\n",
              "      border-left-color: var(--fill-color);\n",
              "    }\n",
              "    20% {\n",
              "      border-color: transparent;\n",
              "      border-left-color: var(--fill-color);\n",
              "      border-top-color: var(--fill-color);\n",
              "    }\n",
              "    30% {\n",
              "      border-color: transparent;\n",
              "      border-left-color: var(--fill-color);\n",
              "      border-top-color: var(--fill-color);\n",
              "      border-right-color: var(--fill-color);\n",
              "    }\n",
              "    40% {\n",
              "      border-color: transparent;\n",
              "      border-right-color: var(--fill-color);\n",
              "      border-top-color: var(--fill-color);\n",
              "    }\n",
              "    60% {\n",
              "      border-color: transparent;\n",
              "      border-right-color: var(--fill-color);\n",
              "    }\n",
              "    80% {\n",
              "      border-color: transparent;\n",
              "      border-right-color: var(--fill-color);\n",
              "      border-bottom-color: var(--fill-color);\n",
              "    }\n",
              "    90% {\n",
              "      border-color: transparent;\n",
              "      border-bottom-color: var(--fill-color);\n",
              "    }\n",
              "  }\n",
              "</style>\n",
              "\n",
              "  <script>\n",
              "    async function quickchart(key) {\n",
              "      const quickchartButtonEl =\n",
              "        document.querySelector('#' + key + ' button');\n",
              "      quickchartButtonEl.disabled = true;  // To prevent multiple clicks.\n",
              "      quickchartButtonEl.classList.add('colab-df-spinner');\n",
              "      try {\n",
              "        const charts = await google.colab.kernel.invokeFunction(\n",
              "            'suggestCharts', [key], {});\n",
              "      } catch (error) {\n",
              "        console.error('Error during call to suggestCharts:', error);\n",
              "      }\n",
              "      quickchartButtonEl.classList.remove('colab-df-spinner');\n",
              "      quickchartButtonEl.classList.add('colab-df-quickchart-complete');\n",
              "    }\n",
              "    (() => {\n",
              "      let quickchartButtonEl =\n",
              "        document.querySelector('#df-be4c30ab-cf84-4669-9fa4-16641ce62dac button');\n",
              "      quickchartButtonEl.style.display =\n",
              "        google.colab.kernel.accessAllowed ? 'block' : 'none';\n",
              "    })();\n",
              "  </script>\n",
              "</div>\n",
              "\n",
              "    </div>\n",
              "  </div>\n"
            ],
            "application/vnd.google.colaboratory.intrinsic+json": {
              "type": "dataframe",
              "summary": "{\n  \"name\": \"data\",\n  \"rows\": 20,\n  \"fields\": [\n    {\n      \"column\": \"N\",\n      \"properties\": {\n        \"dtype\": \"number\",\n        \"std\": 32,\n        \"min\": 1,\n        \"max\": 99,\n        \"num_unique_values\": 18,\n        \"samples\": [\n          25,\n          99,\n          29\n        ],\n        \"semantic_type\": \"\",\n        \"description\": \"\"\n      }\n    },\n    {\n      \"column\": \"P\",\n      \"properties\": {\n        \"dtype\": \"number\",\n        \"std\": 19,\n        \"min\": 27,\n        \"max\": 86,\n        \"num_unique_values\": 15,\n        \"samples\": [\n          75,\n          86,\n          40\n        ],\n        \"semantic_type\": \"\",\n        \"description\": \"\"\n      }\n    },\n    {\n      \"column\": \"K\",\n      \"properties\": {\n        \"dtype\": \"number\",\n        \"std\": 20,\n        \"min\": 15,\n        \"max\": 81,\n        \"num_unique_values\": 18,\n        \"samples\": [\n          21,\n          36,\n          75\n        ],\n        \"semantic_type\": \"\",\n        \"description\": \"\"\n      }\n    },\n    {\n      \"column\": \"temperature\",\n      \"properties\": {\n        \"dtype\": \"number\",\n        \"std\": 5.130207163824038,\n        \"min\": 17.47809436,\n        \"max\": 35.21462816,\n        \"num_unique_values\": 20,\n        \"samples\": [\n          27.73329078,\n          25.25596239,\n          20.86474944\n        ],\n        \"semantic_type\": \"\",\n        \"description\": \"\"\n      }\n    },\n    {\n      \"column\": \"humidity\",\n      \"properties\": {\n        \"dtype\": \"number\",\n        \"std\": 27.13601120365927,\n        \"min\": 14.99927489,\n        \"max\": 91.61793636,\n        \"num_unique_values\": 20,\n        \"samples\": [\n          81.13903037,\n          61.36669662,\n          91.61793636\n        ],\n        \"semantic_type\": \"\",\n        \"description\": \"\"\n      }\n    },\n    {\n      \"column\": \"ph\",\n      \"properties\": {\n        \"dtype\": \"number\",\n        \"std\": 0.9305406930108417,\n        \"min\": 5.180271502,\n        \"max\": 8.532078732999999,\n        \"num_unique_values\": 20,\n        \"samples\": [\n          6.248900919,\n          7.261791753,\n          6.277148771\n        ],\n        \"semantic_type\": \"\",\n        \"description\": \"\"\n      }\n    },\n    {\n      \"column\": \"rainfall\",\n      \"properties\": {\n        \"dtype\": \"number\",\n        \"std\": 66.83359164033769,\n        \"min\": 40.74536757,\n        \"max\": 243.0745066,\n        \"num_unique_values\": 20,\n        \"samples\": [\n          44.17580911,\n          68.64685069,\n          106.8685636\n        ],\n        \"semantic_type\": \"\",\n        \"description\": \"\"\n      }\n    },\n    {\n      \"column\": \"label\",\n      \"properties\": {\n        \"dtype\": \"string\",\n        \"num_unique_values\": 13,\n        \"samples\": [\n          \"blackgram\",\n          \"lentil\",\n          \"mungbean\"\n        ],\n        \"semantic_type\": \"\",\n        \"description\": \"\"\n      }\n    }\n  ]\n}"
            }
          },
          "metadata": {},
          "execution_count": 44
        }
      ]
    },
    {
      "cell_type": "code",
      "source": [
        "prediction = model.predict((np.array([[61,\n",
        "                                      68,\n",
        "                                      51,\n",
        "                                      37,\n",
        "                                      92,\n",
        "                                      6.8,\n",
        "                                     240]])))\n",
        "print(\"The Suggested Crop for Given Climatic Condition is :\", prediction)"
      ],
      "metadata": {
        "colab": {
          "base_uri": "https://localhost:8080/"
        },
        "id": "R98COqJ_BDGD",
        "outputId": "4fe4554b-a551-4d3d-e139-725bea630a92"
      },
      "execution_count": 47,
      "outputs": [
        {
          "output_type": "stream",
          "name": "stdout",
          "text": [
            "The Suggested Crop for Given Climatic Condition is : ['rice']\n"
          ]
        }
      ]
    },
    {
      "cell_type": "code",
      "source": [
        "features = data[['N','P','K','temperature','humidity','ph','rainfall']]"
      ],
      "metadata": {
        "id": "SPnH77k3lx6X"
      },
      "execution_count": 27,
      "outputs": []
    },
    {
      "cell_type": "code",
      "source": [
        "target = data['label']\n",
        "labels = data['label']"
      ],
      "metadata": {
        "id": "LYBMAujDlyBV"
      },
      "execution_count": 28,
      "outputs": []
    },
    {
      "cell_type": "code",
      "source": [
        "acc=[]\n",
        "model = []"
      ],
      "metadata": {
        "id": "QWsME9_GlyH6"
      },
      "execution_count": 29,
      "outputs": []
    },
    {
      "cell_type": "code",
      "source": [
        "from sklearn.model_selection import train_test_split\n",
        "xtrain,xtest,ytrain,ytest = train_test_split(features,target,random_state=42,test_size=0.3)"
      ],
      "metadata": {
        "id": "JwaD3i0imDst"
      },
      "execution_count": 30,
      "outputs": []
    },
    {
      "cell_type": "code",
      "source": [],
      "metadata": {
        "id": "FpkSwSP2mD0z"
      },
      "execution_count": 30,
      "outputs": []
    },
    {
      "cell_type": "code",
      "source": [
        "from sklearn.tree import DecisionTreeClassifier\n",
        "from sklearn import metrics\n",
        "from sklearn.metrics import classification_report\n",
        "dt = DecisionTreeClassifier(criterion=\"entropy\",random_state=42,max_depth=5)\n",
        "dt.fit(xtrain,ytrain)\n",
        "predicted_values = dt.predict(xtest)\n",
        "x = metrics.accuracy_score(ytest, predicted_values)\n",
        "acc.append(x)\n",
        "model.append('Decision Tree')\n",
        "print(\"DecisionTrees's Accuracy is: \", x*100)\n",
        "\n",
        "print(classification_report(ytest,predicted_values))"
      ],
      "metadata": {
        "colab": {
          "base_uri": "https://localhost:8080/"
        },
        "id": "Bj2xg9ygle4-",
        "outputId": "269cbfc4-2db8-4b84-9db7-89a4ce7f6693"
      },
      "execution_count": 31,
      "outputs": [
        {
          "output_type": "stream",
          "name": "stdout",
          "text": [
            "DecisionTrees's Accuracy is:  86.81818181818181\n",
            "              precision    recall  f1-score   support\n",
            "\n",
            "       apple       1.00      1.00      1.00        34\n",
            "      banana       1.00      1.00      1.00        26\n",
            "   blackgram       0.57      1.00      0.72        26\n",
            "    chickpea       1.00      0.97      0.99        34\n",
            "     coconut       1.00      1.00      1.00        33\n",
            "      coffee       1.00      1.00      1.00        30\n",
            "      cotton       1.00      1.00      1.00        28\n",
            "      grapes       1.00      1.00      1.00        23\n",
            "        jute       0.71      0.94      0.81        34\n",
            " kidneybeans       0.00      0.00      0.00        36\n",
            "      lentil       0.50      1.00      0.67        22\n",
            "       maize       1.00      1.00      1.00        26\n",
            "       mango       1.00      1.00      1.00        32\n",
            "   mothbeans       0.00      0.00      0.00        34\n",
            "    mungbean       0.97      1.00      0.98        30\n",
            "   muskmelon       1.00      1.00      1.00        24\n",
            "      orange       1.00      1.00      1.00        25\n",
            "      papaya       0.97      0.92      0.94        37\n",
            "  pigeonpeas       0.57      1.00      0.73        37\n",
            " pomegranate       1.00      1.00      1.00        38\n",
            "        rice       0.89      0.61      0.72        28\n",
            "  watermelon       1.00      1.00      1.00        23\n",
            "\n",
            "    accuracy                           0.87       660\n",
            "   macro avg       0.83      0.88      0.84       660\n",
            "weighted avg       0.81      0.87      0.83       660\n",
            "\n"
          ]
        },
        {
          "output_type": "stream",
          "name": "stderr",
          "text": [
            "/usr/local/lib/python3.10/dist-packages/sklearn/metrics/_classification.py:1344: UndefinedMetricWarning: Precision and F-score are ill-defined and being set to 0.0 in labels with no predicted samples. Use `zero_division` parameter to control this behavior.\n",
            "  _warn_prf(average, modifier, msg_start, len(result))\n",
            "/usr/local/lib/python3.10/dist-packages/sklearn/metrics/_classification.py:1344: UndefinedMetricWarning: Precision and F-score are ill-defined and being set to 0.0 in labels with no predicted samples. Use `zero_division` parameter to control this behavior.\n",
            "  _warn_prf(average, modifier, msg_start, len(result))\n",
            "/usr/local/lib/python3.10/dist-packages/sklearn/metrics/_classification.py:1344: UndefinedMetricWarning: Precision and F-score are ill-defined and being set to 0.0 in labels with no predicted samples. Use `zero_division` parameter to control this behavior.\n",
            "  _warn_prf(average, modifier, msg_start, len(result))\n"
          ]
        }
      ]
    },
    {
      "cell_type": "code",
      "source": [
        "from sklearn.model_selection import cross_val_score\n",
        "score = cross_val_score(dt, features, target,cv=5)\n",
        "score"
      ],
      "metadata": {
        "colab": {
          "base_uri": "https://localhost:8080/"
        },
        "id": "cU4AVQvjlgAO",
        "outputId": "c79ee43b-c9d2-4479-b9e0-2930c4ed944d"
      },
      "execution_count": 32,
      "outputs": [
        {
          "output_type": "execute_result",
          "data": {
            "text/plain": [
              "array([0.93636364, 0.91136364, 0.92045455, 0.87272727, 0.93636364])"
            ]
          },
          "metadata": {},
          "execution_count": 32
        }
      ]
    },
    {
      "cell_type": "code",
      "source": [
        "import pickle as pk\n",
        "pk.dump(dt,open('Deceision Tree','wb'))"
      ],
      "metadata": {
        "id": "9sPXmStsq9XE"
      },
      "execution_count": 33,
      "outputs": []
    },
    {
      "cell_type": "code",
      "source": [
        "from sklearn.naive_bayes import GaussianNB\n",
        "gnb = GaussianNB()\n",
        "\n",
        "gnb.fit(xtrain,ytrain)\n",
        "\n",
        "predicted_values = gnb.predict(xtest)\n",
        "x = metrics.accuracy_score(ytest, predicted_values)\n",
        "acc.append(x)\n",
        "model.append('Naive Bayes')\n",
        "print(\"Naive Bayes's Accuracy is: \", x)\n",
        "\n",
        "print(classification_report(ytest,predicted_values))"
      ],
      "metadata": {
        "colab": {
          "base_uri": "https://localhost:8080/"
        },
        "id": "UhExJ9k_3q-D",
        "outputId": "fa6edc5f-e34d-4ce3-bf13-8dd621f598df"
      },
      "execution_count": 34,
      "outputs": [
        {
          "output_type": "stream",
          "name": "stdout",
          "text": [
            "Naive Bayes's Accuracy is:  0.9939393939393939\n",
            "              precision    recall  f1-score   support\n",
            "\n",
            "       apple       1.00      1.00      1.00        34\n",
            "      banana       1.00      1.00      1.00        26\n",
            "   blackgram       1.00      1.00      1.00        26\n",
            "    chickpea       1.00      1.00      1.00        34\n",
            "     coconut       1.00      1.00      1.00        33\n",
            "      coffee       1.00      1.00      1.00        30\n",
            "      cotton       1.00      1.00      1.00        28\n",
            "      grapes       1.00      1.00      1.00        23\n",
            "        jute       0.89      1.00      0.94        34\n",
            " kidneybeans       1.00      1.00      1.00        36\n",
            "      lentil       1.00      1.00      1.00        22\n",
            "       maize       1.00      1.00      1.00        26\n",
            "       mango       1.00      1.00      1.00        32\n",
            "   mothbeans       1.00      1.00      1.00        34\n",
            "    mungbean       1.00      1.00      1.00        30\n",
            "   muskmelon       1.00      1.00      1.00        24\n",
            "      orange       1.00      1.00      1.00        25\n",
            "      papaya       1.00      1.00      1.00        37\n",
            "  pigeonpeas       1.00      1.00      1.00        37\n",
            " pomegranate       1.00      1.00      1.00        38\n",
            "        rice       1.00      0.86      0.92        28\n",
            "  watermelon       1.00      1.00      1.00        23\n",
            "\n",
            "    accuracy                           0.99       660\n",
            "   macro avg       1.00      0.99      0.99       660\n",
            "weighted avg       0.99      0.99      0.99       660\n",
            "\n"
          ]
        }
      ]
    },
    {
      "cell_type": "code",
      "source": [
        "score = cross_val_score(gnb,features,target,cv=5)\n",
        "score"
      ],
      "metadata": {
        "colab": {
          "base_uri": "https://localhost:8080/"
        },
        "id": "FuH7sJ4t3zWn",
        "outputId": "04d323be-f329-4250-93c3-3cd11171b28b"
      },
      "execution_count": 35,
      "outputs": [
        {
          "output_type": "execute_result",
          "data": {
            "text/plain": [
              "array([0.99772727, 0.99545455, 0.99545455, 0.99545455, 0.99090909])"
            ]
          },
          "metadata": {},
          "execution_count": 35
        }
      ]
    },
    {
      "cell_type": "code",
      "source": [
        "pk.dump(gnb,open('Guassian Naive Bayes','wb'))"
      ],
      "metadata": {
        "id": "r_qzOQIN38z_"
      },
      "execution_count": 36,
      "outputs": []
    },
    {
      "cell_type": "code",
      "source": [
        "from sklearn.svm import SVC\n",
        "# data normalization with sklearn\n",
        "from sklearn.preprocessing import MinMaxScaler\n",
        "# fit scaler on training data\n",
        "norm = MinMaxScaler().fit(xtrain)\n",
        "x_train_norm = norm.transform(xtrain)\n",
        "# transform testing dataabs\n",
        "x_test_norm = norm.transform(xtest)\n",
        "SVM = SVC(kernel='poly', degree=3, C=1)\n",
        "SVM.fit(x_train_norm,ytrain)\n",
        "predicted_values = SVM.predict(x_test_norm)\n",
        "x = metrics.accuracy_score(ytest, predicted_values)\n",
        "acc.append(x)\n",
        "model.append('SVM')\n",
        "print(\"SVM's Accuracy is: \", x)\n",
        "\n",
        "print(classification_report(ytest,predicted_values))"
      ],
      "metadata": {
        "colab": {
          "base_uri": "https://localhost:8080/"
        },
        "id": "zLWfp7HJDCGq",
        "outputId": "b20c64fe-480d-4219-fc5f-370e0cbe5e7e"
      },
      "execution_count": 37,
      "outputs": [
        {
          "output_type": "stream",
          "name": "stdout",
          "text": [
            "SVM's Accuracy is:  0.9681818181818181\n",
            "              precision    recall  f1-score   support\n",
            "\n",
            "       apple       1.00      1.00      1.00        34\n",
            "      banana       1.00      1.00      1.00        26\n",
            "   blackgram       0.93      1.00      0.96        26\n",
            "    chickpea       1.00      1.00      1.00        34\n",
            "     coconut       1.00      1.00      1.00        33\n",
            "      coffee       1.00      0.93      0.97        30\n",
            "      cotton       0.97      1.00      0.98        28\n",
            "      grapes       1.00      1.00      1.00        23\n",
            "        jute       0.73      0.97      0.84        34\n",
            " kidneybeans       0.97      1.00      0.99        36\n",
            "      lentil       0.91      0.95      0.93        22\n",
            "       maize       1.00      0.96      0.98        26\n",
            "       mango       0.97      1.00      0.98        32\n",
            "   mothbeans       0.97      0.94      0.96        34\n",
            "    mungbean       1.00      1.00      1.00        30\n",
            "   muskmelon       1.00      1.00      1.00        24\n",
            "      orange       1.00      1.00      1.00        25\n",
            "      papaya       0.97      1.00      0.99        37\n",
            "  pigeonpeas       1.00      0.89      0.94        37\n",
            " pomegranate       1.00      1.00      1.00        38\n",
            "        rice       1.00      0.64      0.78        28\n",
            "  watermelon       1.00      1.00      1.00        23\n",
            "\n",
            "    accuracy                           0.97       660\n",
            "   macro avg       0.97      0.97      0.97       660\n",
            "weighted avg       0.97      0.97      0.97       660\n",
            "\n"
          ]
        }
      ]
    },
    {
      "cell_type": "code",
      "source": [
        "score = cross_val_score(SVM,features,target,cv=5)\n",
        "score"
      ],
      "metadata": {
        "colab": {
          "base_uri": "https://localhost:8080/"
        },
        "id": "kADJaLqyDCX5",
        "outputId": "8b664b0f-e5d1-4cc6-a675-f6ba8a65fea7"
      },
      "execution_count": 38,
      "outputs": [
        {
          "output_type": "execute_result",
          "data": {
            "text/plain": [
              "array([0.97954545, 0.975     , 0.98863636, 0.98863636, 0.98181818])"
            ]
          },
          "metadata": {},
          "execution_count": 38
        }
      ]
    },
    {
      "cell_type": "code",
      "source": [
        "pk.dump(SVM,open('SVM','wb'))"
      ],
      "metadata": {
        "id": "npbs2X4gEHPf"
      },
      "execution_count": 39,
      "outputs": []
    },
    {
      "cell_type": "code",
      "source": [
        "from sklearn.linear_model import LogisticRegression\n",
        "\n",
        "LogReg = LogisticRegression(random_state=2)\n",
        "\n",
        "LogReg.fit(xtrain,ytrain)\n",
        "\n",
        "predicted_values = LogReg.predict(xtest)\n",
        "\n",
        "x = metrics.accuracy_score(ytest, predicted_values)\n",
        "acc.append(x)\n",
        "model.append('Logistic Regression')\n",
        "print(\"Logistic Regression's Accuracy is: \", x)\n",
        "\n",
        "print(classification_report(ytest,predicted_values))"
      ],
      "metadata": {
        "colab": {
          "base_uri": "https://localhost:8080/"
        },
        "id": "TcEHhzjREgVw",
        "outputId": "98df7d1b-b07b-44f3-a426-7ae711fb221f"
      },
      "execution_count": 40,
      "outputs": [
        {
          "output_type": "stream",
          "name": "stdout",
          "text": [
            "Logistic Regression's Accuracy is:  0.946969696969697\n",
            "              precision    recall  f1-score   support\n",
            "\n",
            "       apple       1.00      1.00      1.00        34\n",
            "      banana       0.96      1.00      0.98        26\n",
            "   blackgram       0.76      0.85      0.80        26\n",
            "    chickpea       1.00      1.00      1.00        34\n",
            "     coconut       1.00      1.00      1.00        33\n",
            "      coffee       0.97      1.00      0.98        30\n",
            "      cotton       0.87      0.96      0.92        28\n",
            "      grapes       1.00      1.00      1.00        23\n",
            "        jute       0.81      0.88      0.85        34\n",
            " kidneybeans       1.00      0.97      0.99        36\n",
            "      lentil       0.91      0.91      0.91        22\n",
            "       maize       0.95      0.77      0.85        26\n",
            "       mango       0.97      1.00      0.98        32\n",
            "   mothbeans       0.90      0.82      0.86        34\n",
            "    mungbean       0.94      1.00      0.97        30\n",
            "   muskmelon       1.00      1.00      1.00        24\n",
            "      orange       1.00      1.00      1.00        25\n",
            "      papaya       0.94      0.92      0.93        37\n",
            "  pigeonpeas       0.95      0.95      0.95        37\n",
            " pomegranate       1.00      1.00      1.00        38\n",
            "        rice       0.92      0.79      0.85        28\n",
            "  watermelon       1.00      1.00      1.00        23\n",
            "\n",
            "    accuracy                           0.95       660\n",
            "   macro avg       0.95      0.95      0.95       660\n",
            "weighted avg       0.95      0.95      0.95       660\n",
            "\n"
          ]
        },
        {
          "output_type": "stream",
          "name": "stderr",
          "text": [
            "/usr/local/lib/python3.10/dist-packages/sklearn/linear_model/_logistic.py:458: ConvergenceWarning: lbfgs failed to converge (status=1):\n",
            "STOP: TOTAL NO. of ITERATIONS REACHED LIMIT.\n",
            "\n",
            "Increase the number of iterations (max_iter) or scale the data as shown in:\n",
            "    https://scikit-learn.org/stable/modules/preprocessing.html\n",
            "Please also refer to the documentation for alternative solver options:\n",
            "    https://scikit-learn.org/stable/modules/linear_model.html#logistic-regression\n",
            "  n_iter_i = _check_optimize_result(\n"
          ]
        }
      ]
    },
    {
      "cell_type": "code",
      "source": [
        "pk.dump(LogReg,open('LogisticRegression','wb'))"
      ],
      "metadata": {
        "id": "XW-v6vj3Eo4_"
      },
      "execution_count": 41,
      "outputs": []
    },
    {
      "cell_type": "code",
      "source": [
        "from sklearn.ensemble import RandomForestClassifier\n",
        "\n",
        "RF = RandomForestClassifier(n_estimators=20, random_state=0)\n",
        "RF.fit(xtrain,ytrain)\n",
        "\n",
        "predicted_values = RF.predict(xtest)\n",
        "\n",
        "x = metrics.accuracy_score(ytest, predicted_values)\n",
        "acc.append(x)\n",
        "model.append('RF')\n",
        "print(\"RF's Accuracy is: \", x)"
      ],
      "metadata": {
        "colab": {
          "base_uri": "https://localhost:8080/"
        },
        "id": "MAVlrF7AEtnB",
        "outputId": "bc9a680d-fc58-4452-ddaf-3ef1c0a2be46"
      },
      "execution_count": 42,
      "outputs": [
        {
          "output_type": "stream",
          "name": "stdout",
          "text": [
            "RF's Accuracy is:  0.9924242424242424\n"
          ]
        }
      ]
    },
    {
      "cell_type": "code",
      "source": [
        "plt.figure(figsize=[10,5])\n",
        "plt.title('Accuracy Comparison')\n",
        "plt.xlabel('Accuracy')\n",
        "plt.ylabel('Algorithm')\n",
        "sns.barplot(x = acc,y = model,palette='dark')"
      ],
      "metadata": {
        "colab": {
          "base_uri": "https://localhost:8080/",
          "height": 598
        },
        "id": "dYDHfhWMJpd5",
        "outputId": "45f04253-c230-4a1f-b2f2-d565f24cbb49"
      },
      "execution_count": 43,
      "outputs": [
        {
          "output_type": "stream",
          "name": "stderr",
          "text": [
            "<ipython-input-43-715e3729f7cc>:5: FutureWarning: \n",
            "\n",
            "Passing `palette` without assigning `hue` is deprecated and will be removed in v0.14.0. Assign the `y` variable to `hue` and set `legend=False` for the same effect.\n",
            "\n",
            "  sns.barplot(x = acc,y = model,palette='dark')\n"
          ]
        },
        {
          "output_type": "execute_result",
          "data": {
            "text/plain": [
              "<Axes: title={'center': 'Accuracy Comparison'}, xlabel='Accuracy', ylabel='Algorithm'>"
            ]
          },
          "metadata": {},
          "execution_count": 43
        },
        {
          "output_type": "display_data",
          "data": {
            "text/plain": [
              "<Figure size 1000x500 with 1 Axes>"
            ],
            "image/png": "[encoded data removed]"
          },
          "metadata": {}
        }
      ]
    },
    {
      "cell_type": "code",
      "source": [
        "accuracy_models = dict(zip(model, acc))\n",
        "\n",
        "max=0\n",
        "\n",
        "for k, v in accuracy_models.items():\n",
        "  if v > max:\n",
        "    max = v\n",
        "    a = k\n",
        "print(a,'->', max)\n",
        "\n",
        "\n"
      ],
      "metadata": {
        "colab": {
          "base_uri": "https://localhost:8080/"
        },
        "id": "hvlVgG6gLHvA",
        "outputId": "2edfe333-ac86-4d09-e850-3d0e137c9db9"
      },
      "execution_count": 44,
      "outputs": [
        {
          "output_type": "stream",
          "name": "stdout",
          "text": [
            "Naive Bayes -> 0.9939393939393939\n"
          ]
        }
      ]
    },
    {
      "cell_type": "code",
      "source": [
        "data1.sample(10)"
      ],
      "metadata": {
        "colab": {
          "base_uri": "https://localhost:8080/",
          "height": 363
        },
        "id": "WFKxY4fwNJj7",
        "outputId": "ce50cf81-4585-4458-8733-1d791d5bb97c"
      },
      "execution_count": 45,
      "outputs": [
        {
          "output_type": "execute_result",
          "data": {
            "text/plain": [
              "        N    P    K  temperature   humidity        ph    rainfall        label\n",
              "1707   34   65   47    23.485470  93.710437  6.833769  191.776056       papaya\n",
              "990     9   16   36    23.779890  92.933869  5.893332  106.977723  pomegranate\n",
              "1933  113   37   20    25.033002  79.043687  7.393441   97.100870       cotton\n",
              "269    34   76   80    20.656918  15.845726  7.985417   65.238111     chickpea\n",
              "1862   17   30   27    29.030650  90.790939  5.894027  205.572037      coconut\n",
              "1683   24   30   11    32.395240  94.517685  6.601396  113.253730       orange\n",
              "1187   22   38   31    31.533564  53.060093  5.821106   98.570250        mango\n",
              "1523   34  140  198    21.704170  93.440063  5.751707  115.178140        apple\n",
              "404    10   79   18    21.064368  55.469859  5.624731  184.622671   pigeonpeas\n",
              "2161   87   28   35    26.560278  57.162181  6.759212  152.061623       coffee"
            ],
            "text/html": [
              "\n",
              "  <div id=\"df-f433e5d5-e8aa-4e93-882a-50fc42564788\" class=\"colab-df-container\">\n",
              "    <div>\n",
              "<style scoped>\n",
              "    .dataframe tbody tr th:only-of-type {\n",
              "        vertical-align: middle;\n",
              "    }\n",
              "\n",
              "    .dataframe tbody tr th {\n",
              "        vertical-align: top;\n",
              "    }\n",
              "\n",
              "    .dataframe thead th {\n",
              "        text-align: right;\n",
              "    }\n",
              "</style>\n",
              "<table border=\"1\" class=\"dataframe\">\n",
              "  <thead>\n",
              "    <tr style=\"text-align: right;\">\n",
              "      <th></th>\n",
              "      <th>N</th>\n",
              "      <th>P</th>\n",
              "      <th>K</th>\n",
              "      <th>temperature</th>\n",
              "      <th>humidity</th>\n",
              "      <th>ph</th>\n",
              "      <th>rainfall</th>\n",
              "      <th>label</th>\n",
              "    </tr>\n",
              "  </thead>\n",
              "  <tbody>\n",
              "    <tr>\n",
              "      <th>1707</th>\n",
              "      <td>34</td>\n",
              "      <td>65</td>\n",
              "      <td>47</td>\n",
              "      <td>23.485470</td>\n",
              "      <td>93.710437</td>\n",
              "      <td>6.833769</td>\n",
              "      <td>191.776056</td>\n",
              "      <td>papaya</td>\n",
              "    </tr>\n",
              "    <tr>\n",
              "      <th>990</th>\n",
              "      <td>9</td>\n",
              "      <td>16</td>\n",
              "      <td>36</td>\n",
              "      <td>23.779890</td>\n",
              "      <td>92.933869</td>\n",
              "      <td>5.893332</td>\n",
              "      <td>106.977723</td>\n",
              "      <td>pomegranate</td>\n",
              "    </tr>\n",
              "    <tr>\n",
              "      <th>1933</th>\n",
              "      <td>113</td>\n",
              "      <td>37</td>\n",
              "      <td>20</td>\n",
              "      <td>25.033002</td>\n",
              "      <td>79.043687</td>\n",
              "      <td>7.393441</td>\n",
              "      <td>97.100870</td>\n",
              "      <td>cotton</td>\n",
              "    </tr>\n",
              "    <tr>\n",
              "      <th>269</th>\n",
              "      <td>34</td>\n",
              "      <td>76</td>\n",
              "      <td>80</td>\n",
              "      <td>20.656918</td>\n",
              "      <td>15.845726</td>\n",
              "      <td>7.985417</td>\n",
              "      <td>65.238111</td>\n",
              "      <td>chickpea</td>\n",
              "    </tr>\n",
              "    <tr>\n",
              "      <th>1862</th>\n",
              "      <td>17</td>\n",
              "      <td>30</td>\n",
              "      <td>27</td>\n",
              "      <td>29.030650</td>\n",
              "      <td>90.790939</td>\n",
              "      <td>5.894027</td>\n",
              "      <td>205.572037</td>\n",
              "      <td>coconut</td>\n",
              "    </tr>\n",
              "    <tr>\n",
              "      <th>1683</th>\n",
              "      <td>24</td>\n",
              "      <td>30</td>\n",
              "      <td>11</td>\n",
              "      <td>32.395240</td>\n",
              "      <td>94.517685</td>\n",
              "      <td>6.601396</td>\n",
              "      <td>113.253730</td>\n",
              "      <td>orange</td>\n",
              "    </tr>\n",
              "    <tr>\n",
              "      <th>1187</th>\n",
              "      <td>22</td>\n",
              "      <td>38</td>\n",
              "      <td>31</td>\n",
              "      <td>31.533564</td>\n",
              "      <td>53.060093</td>\n",
              "      <td>5.821106</td>\n",
              "      <td>98.570250</td>\n",
              "      <td>mango</td>\n",
              "    </tr>\n",
              "    <tr>\n",
              "      <th>1523</th>\n",
              "      <td>34</td>\n",
              "      <td>140</td>\n",
              "      <td>198</td>\n",
              "      <td>21.704170</td>\n",
              "      <td>93.440063</td>\n",
              "      <td>5.751707</td>\n",
              "      <td>115.178140</td>\n",
              "      <td>apple</td>\n",
              "    </tr>\n",
              "    <tr>\n",
              "      <th>404</th>\n",
              "      <td>10</td>\n",
              "      <td>79</td>\n",
              "      <td>18</td>\n",
              "      <td>21.064368</td>\n",
              "      <td>55.469859</td>\n",
              "      <td>5.624731</td>\n",
              "      <td>184.622671</td>\n",
              "      <td>pigeonpeas</td>\n",
              "    </tr>\n",
              "    <tr>\n",
              "      <th>2161</th>\n",
              "      <td>87</td>\n",
              "      <td>28</td>\n",
              "      <td>35</td>\n",
              "      <td>26.560278</td>\n",
              "      <td>57.162181</td>\n",
              "      <td>6.759212</td>\n",
              "      <td>152.061623</td>\n",
              "      <td>coffee</td>\n",
              "    </tr>\n",
              "  </tbody>\n",
              "</table>\n",
              "</div>\n",
              "    <div class=\"colab-df-buttons\">\n",
              "\n",
              "  <div class=\"colab-df-container\">\n",
              "    <button class=\"colab-df-convert\" onclick=\"convertToInteractive('df-f433e5d5-e8aa-4e93-882a-50fc42564788')\"\n",
              "            title=\"Convert this dataframe to an interactive table.\"\n",
              "            style=\"display:none;\">\n",
              "\n",
              "  <svg xmlns=\"http://www.w3.org/2000/svg\" height=\"24px\" viewBox=\"0 -960 960 960\">\n",
              "    <path d=\"M120-120v-720h720v720H120Zm60-500h600v-160H180v160Zm220 220h160v-160H400v160Zm0 220h160v-160H400v160ZM180-400h160v-160H180v160Zm440 0h160v-160H620v160ZM180-180h160v-160H180v160Zm440 0h160v-160H620v160Z\"/>\n",
              "  </svg>\n",
              "    </button>\n",
              "\n",
              "  <style>\n",
              "    .colab-df-container {\n",
              "      display:flex;\n",
              "      gap: 12px;\n",
              "    }\n",
              "\n",
              "    .colab-df-convert {\n",
              "      background-color: #E8F0FE;\n",
              "      border: none;\n",
              "      border-radius: 50%;\n",
              "      cursor: pointer;\n",
              "      display: none;\n",
              "      fill: #1967D2;\n",
              "      height: 32px;\n",
              "      padding: 0 0 0 0;\n",
              "      width: 32px;\n",
              "    }\n",
              "\n",
              "    .colab-df-convert:hover {\n",
              "      background-color: #E2EBFA;\n",
              "      box-shadow: 0px 1px 2px rgba(60, 64, 67, 0.3), 0px 1px 3px 1px rgba(60, 64, 67, 0.15);\n",
              "      fill: #174EA6;\n",
              "    }\n",
              "\n",
              "    .colab-df-buttons div {\n",
              "      margin-bottom: 4px;\n",
              "    }\n",
              "\n",
              "    [theme=dark] .colab-df-convert {\n",
              "      background-color: #3B4455;\n",
              "      fill: #D2E3FC;\n",
              "    }\n",
              "\n",
              "    [theme=dark] .colab-df-convert:hover {\n",
              "      background-color: #434B5C;\n",
              "      box-shadow: 0px 1px 3px 1px rgba(0, 0, 0, 0.15);\n",
              "      filter: drop-shadow(0px 1px 2px rgba(0, 0, 0, 0.3));\n",
              "      fill: #FFFFFF;\n",
              "    }\n",
              "  </style>\n",
              "\n",
              "    <script>\n",
              "      const buttonEl =\n",
              "        document.querySelector('#df-f433e5d5-e8aa-4e93-882a-50fc42564788 button.colab-df-convert');\n",
              "      buttonEl.style.display =\n",
              "        google.colab.kernel.accessAllowed ? 'block' : 'none';\n",
              "\n",
              "      async function convertToInteractive(key) {\n",
              "        const element = document.querySelector('#df-f433e5d5-e8aa-4e93-882a-50fc42564788');\n",
              "        const dataTable =\n",
              "          await google.colab.kernel.invokeFunction('convertToInteractive',\n",
              "                                                    [key], {});\n",
              "        if (!dataTable) return;\n",
              "\n",
              "        const docLinkHtml = 'Like what you see? Visit the ' +\n",
              "          '<a target=\"_blank\" href=https://colab.research.google.com/notebooks/data_table.ipynb>data table notebook</a>'\n",
              "          + ' to learn more about interactive tables.';\n",
              "        element.innerHTML = '';\n",
              "        dataTable['output_type'] = 'display_data';\n",
              "        await google.colab.output.renderOutput(dataTable, element);\n",
              "        const docLink = document.createElement('div');\n",
              "        docLink.innerHTML = docLinkHtml;\n",
              "        element.appendChild(docLink);\n",
              "      }\n",
              "    </script>\n",
              "  </div>\n",
              "\n",
              "\n",
              "<div id=\"df-eb92ec97-aade-48cd-ac49-bdf732a351ce\">\n",
              "  <button class=\"colab-df-quickchart\" onclick=\"quickchart('df-eb92ec97-aade-48cd-ac49-bdf732a351ce')\"\n",
              "            title=\"Suggest charts\"\n",
              "            style=\"display:none;\">\n",
              "\n",
              "<svg xmlns=\"http://www.w3.org/2000/svg\" height=\"24px\"viewBox=\"0 0 24 24\"\n",
              "     width=\"24px\">\n",
              "    <g>\n",
              "        <path d=\"M19 3H5c-1.1 0-2 .9-2 2v14c0 1.1.9 2 2 2h14c1.1 0 2-.9 2-2V5c0-1.1-.9-2-2-2zM9 17H7v-7h2v7zm4 0h-2V7h2v10zm4 0h-2v-4h2v4z\"/>\n",
              "    </g>\n",
              "</svg>\n",
              "  </button>\n",
              "\n",
              "<style>\n",
              "  .colab-df-quickchart {\n",
              "      --bg-color: #E8F0FE;\n",
              "      --fill-color: #1967D2;\n",
              "      --hover-bg-color: #E2EBFA;\n",
              "      --hover-fill-color: #174EA6;\n",
              "      --disabled-fill-color: #AAA;\n",
              "      --disabled-bg-color: #DDD;\n",
              "  }\n",
              "\n",
              "  [theme=dark] .colab-df-quickchart {\n",
              "      --bg-color: #3B4455;\n",
              "      --fill-color: #D2E3FC;\n",
              "      --hover-bg-color: #434B5C;\n",
              "      --hover-fill-color: #FFFFFF;\n",
              "      --disabled-bg-color: #3B4455;\n",
              "      --disabled-fill-color: #666;\n",
              "  }\n",
              "\n",
              "  .colab-df-quickchart {\n",
              "    background-color: var(--bg-color);\n",
              "    border: none;\n",
              "    border-radius: 50%;\n",
              "    cursor: pointer;\n",
              "    display: none;\n",
              "    fill: var(--fill-color);\n",
              "    height: 32px;\n",
              "    padding: 0;\n",
              "    width: 32px;\n",
              "  }\n",
              "\n",
              "  .colab-df-quickchart:hover {\n",
              "    background-color: var(--hover-bg-color);\n",
              "    box-shadow: 0 1px 2px rgba(60, 64, 67, 0.3), 0 1px 3px 1px rgba(60, 64, 67, 0.15);\n",
              "    fill: var(--button-hover-fill-color);\n",
              "  }\n",
              "\n",
              "  .colab-df-quickchart-complete:disabled,\n",
              "  .colab-df-quickchart-complete:disabled:hover {\n",
              "    background-color: var(--disabled-bg-color);\n",
              "    fill: var(--disabled-fill-color);\n",
              "    box-shadow: none;\n",
              "  }\n",
              "\n",
              "  .colab-df-spinner {\n",
              "    border: 2px solid var(--fill-color);\n",
              "    border-color: transparent;\n",
              "    border-bottom-color: var(--fill-color);\n",
              "    animation:\n",
              "      spin 1s steps(1) infinite;\n",
              "  }\n",
              "\n",
              "  @keyframes spin {\n",
              "    0% {\n",
              "      border-color: transparent;\n",
              "      border-bottom-color: var(--fill-color);\n",
              "      border-left-color: var(--fill-color);\n",
              "    }\n",
              "    20% {\n",
              "      border-color: transparent;\n",
              "      border-left-color: var(--fill-color);\n",
              "      border-top-color: var(--fill-color);\n",
              "    }\n",
              "    30% {\n",
              "      border-color: transparent;\n",
              "      border-left-color: var(--fill-color);\n",
              "      border-top-color: var(--fill-color);\n",
              "      border-right-color: var(--fill-color);\n",
              "    }\n",
              "    40% {\n",
              "      border-color: transparent;\n",
              "      border-right-color: var(--fill-color);\n",
              "      border-top-color: var(--fill-color);\n",
              "    }\n",
              "    60% {\n",
              "      border-color: transparent;\n",
              "      border-right-color: var(--fill-color);\n",
              "    }\n",
              "    80% {\n",
              "      border-color: transparent;\n",
              "      border-right-color: var(--fill-color);\n",
              "      border-bottom-color: var(--fill-color);\n",
              "    }\n",
              "    90% {\n",
              "      border-color: transparent;\n",
              "      border-bottom-color: var(--fill-color);\n",
              "    }\n",
              "  }\n",
              "</style>\n",
              "\n",
              "  <script>\n",
              "    async function quickchart(key) {\n",
              "      const quickchartButtonEl =\n",
              "        document.querySelector('#' + key + ' button');\n",
              "      quickchartButtonEl.disabled = true;  // To prevent multiple clicks.\n",
              "      quickchartButtonEl.classList.add('colab-df-spinner');\n",
              "      try {\n",
              "        const charts = await google.colab.kernel.invokeFunction(\n",
              "            'suggestCharts', [key], {});\n",
              "      } catch (error) {\n",
              "        console.error('Error during call to suggestCharts:', error);\n",
              "      }\n",
              "      quickchartButtonEl.classList.remove('colab-df-spinner');\n",
              "      quickchartButtonEl.classList.add('colab-df-quickchart-complete');\n",
              "    }\n",
              "    (() => {\n",
              "      let quickchartButtonEl =\n",
              "        document.querySelector('#df-eb92ec97-aade-48cd-ac49-bdf732a351ce button');\n",
              "      quickchartButtonEl.style.display =\n",
              "        google.colab.kernel.accessAllowed ? 'block' : 'none';\n",
              "    })();\n",
              "  </script>\n",
              "</div>\n",
              "\n",
              "    </div>\n",
              "  </div>\n"
            ],
            "application/vnd.google.colaboratory.intrinsic+json": {
              "type": "dataframe",
              "summary": "{\n  \"name\": \"data1\",\n  \"rows\": 10,\n  \"fields\": [\n    {\n      \"column\": \"N\",\n      \"properties\": {\n        \"dtype\": \"number\",\n        \"std\": 34,\n        \"min\": 9,\n        \"max\": 113,\n        \"num_unique_values\": 8,\n        \"samples\": [\n          9,\n          22,\n          34\n        ],\n        \"semantic_type\": \"\",\n        \"description\": \"\"\n      }\n    },\n    {\n      \"column\": \"P\",\n      \"properties\": {\n        \"dtype\": \"number\",\n        \"std\": 37,\n        \"min\": 16,\n        \"max\": 140,\n        \"num_unique_values\": 9,\n        \"samples\": [\n          79,\n          16,\n          38\n        ],\n        \"semantic_type\": \"\",\n        \"description\": \"\"\n      }\n    },\n    {\n      \"column\": \"K\",\n      \"properties\": {\n        \"dtype\": \"number\",\n        \"std\": 55,\n        \"min\": 11,\n        \"max\": 198,\n        \"num_unique_values\": 10,\n        \"samples\": [\n          18,\n          36,\n          11\n        ],\n        \"semantic_type\": \"\",\n        \"description\": \"\"\n      }\n    },\n    {\n      \"column\": \"temperature\",\n      \"properties\": {\n        \"dtype\": \"number\",\n        \"std\": 4.246642691220695,\n        \"min\": 20.65691793,\n        \"max\": 32.39523995,\n        \"num_unique_values\": 10,\n        \"samples\": [\n          21.0643684,\n          23.77989026,\n          32.39523995\n        ],\n        \"semantic_type\": \"\",\n        \"description\": \"\"\n      }\n    },\n    {\n      \"column\": \"humidity\",\n      \"properties\": {\n        \"dtype\": \"number\",\n        \"std\": 26.41730232306689,\n        \"min\": 15.84572566,\n        \"max\": 94.51768464,\n        \"num_unique_values\": 10,\n        \"samples\": [\n          55.46985938,\n          92.93386903,\n          94.51768464\n        ],\n        \"semantic_type\": \"\",\n        \"description\": \"\"\n      }\n    },\n    {\n      \"column\": \"ph\",\n      \"properties\": {\n        \"dtype\": \"number\",\n        \"std\": 0.7955594889336897,\n        \"min\": 5.624731337999999,\n        \"max\": 7.985417393,\n        \"num_unique_values\": 10,\n        \"samples\": [\n          5.624731337999999,\n          5.893332377999999,\n          6.601395755\n        ],\n        \"semantic_type\": \"\",\n        \"description\": \"\"\n      }\n    },\n    {\n      \"column\": \"rainfall\",\n      \"properties\": {\n        \"dtype\": \"number\",\n        \"std\": 47.37566190246797,\n        \"min\": 65.23811143,\n        \"max\": 205.5720367,\n        \"num_unique_values\": 10,\n        \"samples\": [\n          184.6226709,\n          106.977723,\n          113.25373\n        ],\n        \"semantic_type\": \"\",\n        \"description\": \"\"\n      }\n    },\n    {\n      \"column\": \"label\",\n      \"properties\": {\n        \"dtype\": \"string\",\n        \"num_unique_values\": 10,\n        \"samples\": [\n          \"pigeonpeas\",\n          \"pomegranate\",\n          \"orange\"\n        ],\n        \"semantic_type\": \"\",\n        \"description\": \"\"\n      }\n    }\n  ]\n}"
            }
          },
          "metadata": {},
          "execution_count": 45
        }
      ]
    },
    {
      "cell_type": "code",
      "source": [],
      "metadata": {
        "id": "g0v17S4WNthz"
      },
      "execution_count": null,
      "outputs": []
    },
    {
      "cell_type": "code",
      "source": [
        "data = np.array([[17,16, 14, 16, 92, 6.8, 103]])\n",
        "prediction = gnb.predict(data)\n",
        "print(prediction)"
      ],
      "metadata": {
        "colab": {
          "base_uri": "https://localhost:8080/"
        },
        "id": "Dsf6jVFaLNGi",
        "outputId": "42c3475e-bffe-4b43-e8fb-f8186fc74bdb"
      },
      "execution_count": 46,
      "outputs": [
        {
          "output_type": "stream",
          "name": "stdout",
          "text": [
            "['orange']\n"
          ]
        },
        {
          "output_type": "stream",
          "name": "stderr",
          "text": [
            "/usr/local/lib/python3.10/dist-packages/sklearn/base.py:439: UserWarning: X does not have valid feature names, but GaussianNB was fitted with feature names\n",
            "  warnings.warn(\n"
          ]
        }
      ]
    },
    {
      "cell_type": "code",
      "source": [
        "def crop_recom(N,P,K,tem,hum,ph,rain):\n",
        "    crop = RF.predict([[N,P,K,tem,hum,ph,rain]])\n",
        "    return crop"
      ],
      "metadata": {
        "id": "aX6IXO_7PFZp"
      },
      "execution_count": 48,
      "outputs": []
    },
    {
      "cell_type": "code",
      "source": [
        "crop_recom(83, 45, 60, 28, 70.3, 7.0, 150.9)"
      ],
      "metadata": {
        "colab": {
          "base_uri": "https://localhost:8080/"
        },
        "id": "7yDH1bCoPIE0",
        "outputId": "58c4bf9d-a75a-49e2-edee-8a18f7c9bb1d"
      },
      "execution_count": 51,
      "outputs": [
        {
          "output_type": "stream",
          "name": "stderr",
          "text": [
            "/usr/local/lib/python3.10/dist-packages/sklearn/base.py:439: UserWarning: X does not have valid feature names, but RandomForestClassifier was fitted with feature names\n",
            "  warnings.warn(\n"
          ]
        },
        {
          "output_type": "execute_result",
          "data": {
            "text/plain": [
              "array(['jute'], dtype=object)"
            ]
          },
          "metadata": {},
          "execution_count": 51
        }
      ]
    },
    {
      "cell_type": "code",
      "source": [
        "from sklearn.preprocessing import LabelEncoder\n",
        "from keras.models import Sequential\n",
        "from keras.layers import Dense"
      ],
      "metadata": {
        "id": "p_0qtamvA4PL"
      },
      "execution_count": 50,
      "outputs": []
    },
    {
      "cell_type": "code",
      "source": [
        "X = data1.drop(\"label\", axis=1)\n",
        "y = data1[\"label\"]\n",
        "\n",
        "# Encode the target variable\n",
        "encoder = LabelEncoder()\n",
        "y = encoder.fit_transform(y)\n",
        "\n",
        "# Split the dataset into train and test sets\n",
        "X_train, X_test, y_train, y_test = train_test_split(X, y, test_size=0.2, random_state=42)\n",
        "\n",
        "# Normalize the features\n",
        "scaler = StandardScaler()\n",
        "X_train_scaled = scaler.fit_transform(X_train)\n",
        "X_test_scaled = scaler.transform(X_test)\n",
        "\n",
        "# Build the ANN model\n",
        "model = Sequential()\n",
        "model.add(Dense(128, activation='relu', input_shape=(X_train_scaled.shape[1],)))\n",
        "model.add(Dense(64, activation='relu'))\n",
        "model.add(Dense(64, activation='relu'))\n",
        "model.add(Dense(len(encoder.classes_), activation='softmax'))\n",
        "\n",
        "# Compile the model\n",
        "model.compile(optimizer='adam', loss='sparse_categorical_crossentropy', metrics=['accuracy'])\n",
        "\n",
        "# Train the model\n",
        "model.fit(X_train_scaled, y_train, epochs=100, batch_size=32, validation_split=0.2)\n",
        "\n",
        "# Evaluate the model\n",
        "loss, accuracy = model.evaluate(X_test_scaled, y_test)\n",
        "print(\"Test Accuracy:\", accuracy)"
      ],
      "metadata": {
        "colab": {
          "base_uri": "https://localhost:8080/"
        },
        "id": "rn7pkSFDCj0M",
        "outputId": "fb779f59-5b42-44c2-aecd-cfb94dbe2970"
      },
      "execution_count": 67,
      "outputs": [
        {
          "output_type": "stream",
          "name": "stdout",
          "text": [
            "Epoch 1/100\n",
            "44/44 [==============================] - 2s 12ms/step - loss: 2.6899 - accuracy: 0.2791 - val_loss: 2.1424 - val_accuracy: 0.5540\n",
            "Epoch 2/100\n",
            "44/44 [==============================] - 0s 8ms/step - loss: 1.4820 - accuracy: 0.7109 - val_loss: 0.9075 - val_accuracy: 0.7585\n",
            "Epoch 3/100\n",
            "44/44 [==============================] - 0s 9ms/step - loss: 0.5785 - accuracy: 0.8750 - val_loss: 0.4119 - val_accuracy: 0.8977\n",
            "Epoch 4/100\n",
            "44/44 [==============================] - 0s 8ms/step - loss: 0.2861 - accuracy: 0.9361 - val_loss: 0.2781 - val_accuracy: 0.9006\n",
            "Epoch 5/100\n",
            "44/44 [==============================] - 0s 6ms/step - loss: 0.1987 - accuracy: 0.9531 - val_loss: 0.2121 - val_accuracy: 0.9205\n",
            "Epoch 6/100\n",
            "44/44 [==============================] - 0s 5ms/step - loss: 0.1498 - accuracy: 0.9588 - val_loss: 0.1621 - val_accuracy: 0.9403\n",
            "Epoch 7/100\n",
            "44/44 [==============================] - 0s 6ms/step - loss: 0.1158 - accuracy: 0.9702 - val_loss: 0.1459 - val_accuracy: 0.9432\n",
            "Epoch 8/100\n",
            "44/44 [==============================] - 0s 6ms/step - loss: 0.1052 - accuracy: 0.9751 - val_loss: 0.1324 - val_accuracy: 0.9489\n",
            "Epoch 9/100\n",
            "44/44 [==============================] - 0s 5ms/step - loss: 0.0876 - accuracy: 0.9780 - val_loss: 0.1142 - val_accuracy: 0.9602\n",
            "Epoch 10/100\n",
            "44/44 [==============================] - 0s 6ms/step - loss: 0.0876 - accuracy: 0.9716 - val_loss: 0.1004 - val_accuracy: 0.9659\n",
            "Epoch 11/100\n",
            "44/44 [==============================] - 0s 7ms/step - loss: 0.0663 - accuracy: 0.9808 - val_loss: 0.1088 - val_accuracy: 0.9631\n",
            "Epoch 12/100\n",
            "44/44 [==============================] - 0s 3ms/step - loss: 0.0639 - accuracy: 0.9808 - val_loss: 0.0920 - val_accuracy: 0.9574\n",
            "Epoch 13/100\n",
            "44/44 [==============================] - 0s 3ms/step - loss: 0.0626 - accuracy: 0.9822 - val_loss: 0.0871 - val_accuracy: 0.9659\n",
            "Epoch 14/100\n",
            "44/44 [==============================] - 0s 9ms/step - loss: 0.0538 - accuracy: 0.9844 - val_loss: 0.0795 - val_accuracy: 0.9602\n",
            "Epoch 15/100\n",
            "44/44 [==============================] - 1s 13ms/step - loss: 0.0505 - accuracy: 0.9858 - val_loss: 0.0969 - val_accuracy: 0.9602\n",
            "Epoch 16/100\n",
            "44/44 [==============================] - 0s 9ms/step - loss: 0.0446 - accuracy: 0.9865 - val_loss: 0.0858 - val_accuracy: 0.9602\n",
            "Epoch 17/100\n",
            "44/44 [==============================] - 0s 7ms/step - loss: 0.0448 - accuracy: 0.9872 - val_loss: 0.0671 - val_accuracy: 0.9801\n",
            "Epoch 18/100\n",
            "44/44 [==============================] - 0s 5ms/step - loss: 0.0506 - accuracy: 0.9822 - val_loss: 0.0798 - val_accuracy: 0.9716\n",
            "Epoch 19/100\n",
            "44/44 [==============================] - 0s 5ms/step - loss: 0.0379 - accuracy: 0.9879 - val_loss: 0.0677 - val_accuracy: 0.9716\n",
            "Epoch 20/100\n",
            "44/44 [==============================] - 0s 6ms/step - loss: 0.0376 - accuracy: 0.9886 - val_loss: 0.0708 - val_accuracy: 0.9744\n",
            "Epoch 21/100\n",
            "44/44 [==============================] - 0s 7ms/step - loss: 0.0397 - accuracy: 0.9872 - val_loss: 0.0777 - val_accuracy: 0.9688\n",
            "Epoch 22/100\n",
            "44/44 [==============================] - 0s 6ms/step - loss: 0.0366 - accuracy: 0.9901 - val_loss: 0.0909 - val_accuracy: 0.9631\n",
            "Epoch 23/100\n",
            "44/44 [==============================] - 0s 5ms/step - loss: 0.0369 - accuracy: 0.9893 - val_loss: 0.0730 - val_accuracy: 0.9688\n",
            "Epoch 24/100\n",
            "44/44 [==============================] - 0s 7ms/step - loss: 0.0300 - accuracy: 0.9901 - val_loss: 0.0638 - val_accuracy: 0.9744\n",
            "Epoch 25/100\n",
            "44/44 [==============================] - 0s 6ms/step - loss: 0.0298 - accuracy: 0.9915 - val_loss: 0.0542 - val_accuracy: 0.9858\n",
            "Epoch 26/100\n",
            "44/44 [==============================] - 0s 8ms/step - loss: 0.0296 - accuracy: 0.9908 - val_loss: 0.0696 - val_accuracy: 0.9716\n",
            "Epoch 27/100\n",
            "44/44 [==============================] - 0s 6ms/step - loss: 0.0240 - accuracy: 0.9943 - val_loss: 0.0643 - val_accuracy: 0.9716\n",
            "Epoch 28/100\n",
            "44/44 [==============================] - 0s 6ms/step - loss: 0.0217 - accuracy: 0.9950 - val_loss: 0.0562 - val_accuracy: 0.9773\n",
            "Epoch 29/100\n",
            "44/44 [==============================] - 0s 6ms/step - loss: 0.0271 - accuracy: 0.9950 - val_loss: 0.0606 - val_accuracy: 0.9886\n",
            "Epoch 30/100\n",
            "44/44 [==============================] - 0s 8ms/step - loss: 0.0397 - accuracy: 0.9837 - val_loss: 0.0995 - val_accuracy: 0.9688\n",
            "Epoch 31/100\n",
            "44/44 [==============================] - 0s 11ms/step - loss: 0.0253 - accuracy: 0.9908 - val_loss: 0.0717 - val_accuracy: 0.9659\n",
            "Epoch 32/100\n",
            "44/44 [==============================] - 0s 5ms/step - loss: 0.0194 - accuracy: 0.9950 - val_loss: 0.0582 - val_accuracy: 0.9801\n",
            "Epoch 33/100\n",
            "44/44 [==============================] - 0s 3ms/step - loss: 0.0171 - accuracy: 0.9964 - val_loss: 0.0788 - val_accuracy: 0.9659\n",
            "Epoch 34/100\n",
            "44/44 [==============================] - 0s 3ms/step - loss: 0.0240 - accuracy: 0.9908 - val_loss: 0.0762 - val_accuracy: 0.9688\n",
            "Epoch 35/100\n",
            "44/44 [==============================] - 0s 3ms/step - loss: 0.0211 - accuracy: 0.9936 - val_loss: 0.0877 - val_accuracy: 0.9744\n",
            "Epoch 36/100\n",
            "44/44 [==============================] - 0s 3ms/step - loss: 0.0366 - accuracy: 0.9872 - val_loss: 0.0557 - val_accuracy: 0.9801\n",
            "Epoch 37/100\n",
            "44/44 [==============================] - 0s 4ms/step - loss: 0.0168 - accuracy: 0.9964 - val_loss: 0.0544 - val_accuracy: 0.9801\n",
            "Epoch 38/100\n",
            "44/44 [==============================] - 0s 3ms/step - loss: 0.0187 - accuracy: 0.9936 - val_loss: 0.0637 - val_accuracy: 0.9744\n",
            "Epoch 39/100\n",
            "44/44 [==============================] - 0s 3ms/step - loss: 0.0130 - accuracy: 0.9964 - val_loss: 0.0583 - val_accuracy: 0.9830\n",
            "Epoch 40/100\n",
            "44/44 [==============================] - 0s 3ms/step - loss: 0.0198 - accuracy: 0.9936 - val_loss: 0.0564 - val_accuracy: 0.9830\n",
            "Epoch 41/100\n",
            "44/44 [==============================] - 0s 3ms/step - loss: 0.0168 - accuracy: 0.9936 - val_loss: 0.0912 - val_accuracy: 0.9659\n",
            "Epoch 42/100\n",
            "44/44 [==============================] - 0s 3ms/step - loss: 0.0164 - accuracy: 0.9936 - val_loss: 0.0548 - val_accuracy: 0.9801\n",
            "Epoch 43/100\n",
            "44/44 [==============================] - 0s 4ms/step - loss: 0.0125 - accuracy: 0.9972 - val_loss: 0.0590 - val_accuracy: 0.9801\n",
            "Epoch 44/100\n",
            "44/44 [==============================] - 0s 3ms/step - loss: 0.0194 - accuracy: 0.9915 - val_loss: 0.0687 - val_accuracy: 0.9744\n",
            "Epoch 45/100\n",
            "44/44 [==============================] - 0s 3ms/step - loss: 0.0151 - accuracy: 0.9936 - val_loss: 0.0501 - val_accuracy: 0.9830\n",
            "Epoch 46/100\n",
            "44/44 [==============================] - 0s 3ms/step - loss: 0.0160 - accuracy: 0.9943 - val_loss: 0.0698 - val_accuracy: 0.9659\n",
            "Epoch 47/100\n",
            "44/44 [==============================] - 0s 3ms/step - loss: 0.0157 - accuracy: 0.9957 - val_loss: 0.0476 - val_accuracy: 0.9830\n",
            "Epoch 48/100\n",
            "44/44 [==============================] - 0s 3ms/step - loss: 0.0135 - accuracy: 0.9943 - val_loss: 0.0709 - val_accuracy: 0.9716\n",
            "Epoch 49/100\n",
            "44/44 [==============================] - 0s 3ms/step - loss: 0.0183 - accuracy: 0.9922 - val_loss: 0.0614 - val_accuracy: 0.9801\n",
            "Epoch 50/100\n",
            "44/44 [==============================] - 0s 3ms/step - loss: 0.0102 - accuracy: 0.9979 - val_loss: 0.0575 - val_accuracy: 0.9830\n",
            "Epoch 51/100\n",
            "44/44 [==============================] - 0s 4ms/step - loss: 0.0115 - accuracy: 0.9972 - val_loss: 0.0531 - val_accuracy: 0.9801\n",
            "Epoch 52/100\n",
            "44/44 [==============================] - 0s 3ms/step - loss: 0.0125 - accuracy: 0.9957 - val_loss: 0.0483 - val_accuracy: 0.9830\n",
            "Epoch 53/100\n",
            "44/44 [==============================] - 0s 3ms/step - loss: 0.0136 - accuracy: 0.9936 - val_loss: 0.0597 - val_accuracy: 0.9801\n",
            "Epoch 54/100\n",
            "44/44 [==============================] - 0s 3ms/step - loss: 0.0077 - accuracy: 0.9979 - val_loss: 0.0609 - val_accuracy: 0.9801\n",
            "Epoch 55/100\n",
            "44/44 [==============================] - 0s 3ms/step - loss: 0.0085 - accuracy: 0.9979 - val_loss: 0.0537 - val_accuracy: 0.9801\n",
            "Epoch 56/100\n",
            "44/44 [==============================] - 0s 5ms/step - loss: 0.0100 - accuracy: 0.9964 - val_loss: 0.0523 - val_accuracy: 0.9830\n",
            "Epoch 57/100\n",
            "44/44 [==============================] - 0s 7ms/step - loss: 0.0087 - accuracy: 0.9979 - val_loss: 0.0515 - val_accuracy: 0.9830\n",
            "Epoch 58/100\n",
            "44/44 [==============================] - 0s 4ms/step - loss: 0.0126 - accuracy: 0.9957 - val_loss: 0.0693 - val_accuracy: 0.9744\n",
            "Epoch 59/100\n",
            "44/44 [==============================] - 0s 4ms/step - loss: 0.0164 - accuracy: 0.9936 - val_loss: 0.0625 - val_accuracy: 0.9773\n",
            "Epoch 60/100\n",
            "44/44 [==============================] - 0s 5ms/step - loss: 0.0121 - accuracy: 0.9964 - val_loss: 0.0579 - val_accuracy: 0.9801\n",
            "Epoch 61/100\n",
            "44/44 [==============================] - 0s 6ms/step - loss: 0.0070 - accuracy: 0.9972 - val_loss: 0.0529 - val_accuracy: 0.9830\n",
            "Epoch 62/100\n",
            "44/44 [==============================] - 0s 5ms/step - loss: 0.0097 - accuracy: 0.9972 - val_loss: 0.0580 - val_accuracy: 0.9858\n",
            "Epoch 63/100\n",
            "44/44 [==============================] - 0s 4ms/step - loss: 0.0097 - accuracy: 0.9972 - val_loss: 0.0505 - val_accuracy: 0.9830\n",
            "Epoch 64/100\n",
            "44/44 [==============================] - 0s 5ms/step - loss: 0.0087 - accuracy: 0.9972 - val_loss: 0.0587 - val_accuracy: 0.9830\n",
            "Epoch 65/100\n",
            "44/44 [==============================] - 0s 6ms/step - loss: 0.0090 - accuracy: 0.9979 - val_loss: 0.0583 - val_accuracy: 0.9830\n",
            "Epoch 66/100\n",
            "44/44 [==============================] - 0s 5ms/step - loss: 0.0104 - accuracy: 0.9972 - val_loss: 0.0633 - val_accuracy: 0.9830\n",
            "Epoch 67/100\n",
            "44/44 [==============================] - 0s 7ms/step - loss: 0.0079 - accuracy: 0.9964 - val_loss: 0.0515 - val_accuracy: 0.9830\n",
            "Epoch 68/100\n",
            "44/44 [==============================] - 0s 5ms/step - loss: 0.0061 - accuracy: 0.9986 - val_loss: 0.0616 - val_accuracy: 0.9830\n",
            "Epoch 69/100\n",
            "44/44 [==============================] - 0s 4ms/step - loss: 0.0153 - accuracy: 0.9950 - val_loss: 0.0485 - val_accuracy: 0.9830\n",
            "Epoch 70/100\n",
            "44/44 [==============================] - 0s 3ms/step - loss: 0.0059 - accuracy: 0.9979 - val_loss: 0.0510 - val_accuracy: 0.9858\n",
            "Epoch 71/100\n",
            "44/44 [==============================] - 0s 3ms/step - loss: 0.0054 - accuracy: 0.9979 - val_loss: 0.0546 - val_accuracy: 0.9830\n",
            "Epoch 72/100\n",
            "44/44 [==============================] - 0s 4ms/step - loss: 0.0217 - accuracy: 0.9929 - val_loss: 0.0620 - val_accuracy: 0.9830\n",
            "Epoch 73/100\n",
            "44/44 [==============================] - 0s 3ms/step - loss: 0.0144 - accuracy: 0.9950 - val_loss: 0.0583 - val_accuracy: 0.9801\n",
            "Epoch 74/100\n",
            "44/44 [==============================] - 0s 3ms/step - loss: 0.0065 - accuracy: 0.9979 - val_loss: 0.0672 - val_accuracy: 0.9773\n",
            "Epoch 75/100\n",
            "44/44 [==============================] - 0s 3ms/step - loss: 0.0073 - accuracy: 0.9979 - val_loss: 0.0559 - val_accuracy: 0.9830\n",
            "Epoch 76/100\n",
            "44/44 [==============================] - 0s 4ms/step - loss: 0.0089 - accuracy: 0.9957 - val_loss: 0.0635 - val_accuracy: 0.9801\n",
            "Epoch 77/100\n",
            "44/44 [==============================] - 0s 3ms/step - loss: 0.0089 - accuracy: 0.9979 - val_loss: 0.0521 - val_accuracy: 0.9830\n",
            "Epoch 78/100\n",
            "44/44 [==============================] - 0s 3ms/step - loss: 0.0054 - accuracy: 0.9972 - val_loss: 0.0612 - val_accuracy: 0.9801\n",
            "Epoch 79/100\n",
            "44/44 [==============================] - 0s 4ms/step - loss: 0.0072 - accuracy: 0.9979 - val_loss: 0.0564 - val_accuracy: 0.9830\n",
            "Epoch 80/100\n",
            "44/44 [==============================] - 0s 3ms/step - loss: 0.0045 - accuracy: 0.9986 - val_loss: 0.0693 - val_accuracy: 0.9773\n",
            "Epoch 81/100\n",
            "44/44 [==============================] - 0s 3ms/step - loss: 0.0074 - accuracy: 0.9972 - val_loss: 0.0797 - val_accuracy: 0.9886\n",
            "Epoch 82/100\n",
            "44/44 [==============================] - 0s 3ms/step - loss: 0.0075 - accuracy: 0.9993 - val_loss: 0.0592 - val_accuracy: 0.9830\n",
            "Epoch 83/100\n",
            "44/44 [==============================] - 0s 3ms/step - loss: 0.0030 - accuracy: 1.0000 - val_loss: 0.0661 - val_accuracy: 0.9830\n",
            "Epoch 84/100\n",
            "44/44 [==============================] - 0s 3ms/step - loss: 0.0033 - accuracy: 0.9986 - val_loss: 0.0742 - val_accuracy: 0.9744\n",
            "Epoch 85/100\n",
            "44/44 [==============================] - 0s 4ms/step - loss: 0.0053 - accuracy: 0.9993 - val_loss: 0.0688 - val_accuracy: 0.9801\n",
            "Epoch 86/100\n",
            "44/44 [==============================] - 0s 3ms/step - loss: 0.0039 - accuracy: 0.9993 - val_loss: 0.0556 - val_accuracy: 0.9858\n",
            "Epoch 87/100\n",
            "44/44 [==============================] - 0s 3ms/step - loss: 0.0069 - accuracy: 0.9979 - val_loss: 0.0632 - val_accuracy: 0.9830\n",
            "Epoch 88/100\n",
            "44/44 [==============================] - 0s 3ms/step - loss: 0.0078 - accuracy: 0.9979 - val_loss: 0.0845 - val_accuracy: 0.9716\n",
            "Epoch 89/100\n",
            "44/44 [==============================] - 0s 3ms/step - loss: 0.0054 - accuracy: 0.9986 - val_loss: 0.0545 - val_accuracy: 0.9886\n",
            "Epoch 90/100\n",
            "44/44 [==============================] - 0s 3ms/step - loss: 0.0034 - accuracy: 0.9993 - val_loss: 0.0626 - val_accuracy: 0.9801\n",
            "Epoch 91/100\n",
            "44/44 [==============================] - 0s 3ms/step - loss: 0.0027 - accuracy: 0.9993 - val_loss: 0.0655 - val_accuracy: 0.9801\n",
            "Epoch 92/100\n",
            "44/44 [==============================] - 0s 3ms/step - loss: 0.0032 - accuracy: 0.9993 - val_loss: 0.0651 - val_accuracy: 0.9830\n",
            "Epoch 93/100\n",
            "44/44 [==============================] - 0s 3ms/step - loss: 0.0162 - accuracy: 0.9957 - val_loss: 0.0571 - val_accuracy: 0.9858\n",
            "Epoch 94/100\n",
            "44/44 [==============================] - 0s 3ms/step - loss: 0.0033 - accuracy: 0.9986 - val_loss: 0.0646 - val_accuracy: 0.9830\n",
            "Epoch 95/100\n",
            "44/44 [==============================] - 0s 3ms/step - loss: 0.0034 - accuracy: 0.9993 - val_loss: 0.0615 - val_accuracy: 0.9858\n",
            "Epoch 96/100\n",
            "44/44 [==============================] - 0s 3ms/step - loss: 0.0030 - accuracy: 0.9986 - val_loss: 0.0601 - val_accuracy: 0.9830\n",
            "Epoch 97/100\n",
            "44/44 [==============================] - 0s 3ms/step - loss: 0.0039 - accuracy: 0.9986 - val_loss: 0.0550 - val_accuracy: 0.9830\n",
            "Epoch 98/100\n",
            "44/44 [==============================] - 0s 3ms/step - loss: 0.0027 - accuracy: 0.9986 - val_loss: 0.0652 - val_accuracy: 0.9858\n",
            "Epoch 99/100\n",
            "44/44 [==============================] - 0s 3ms/step - loss: 0.0051 - accuracy: 0.9986 - val_loss: 0.0565 - val_accuracy: 0.9886\n",
            "Epoch 100/100\n",
            "44/44 [==============================] - 0s 4ms/step - loss: 0.0074 - accuracy: 0.9979 - val_loss: 0.0628 - val_accuracy: 0.9773\n",
            "14/14 [==============================] - 0s 2ms/step - loss: 0.1235 - accuracy: 0.9614\n",
            "Test Accuracy: 0.9613636136054993\n"
          ]
        }
      ]
    },
    {
      "cell_type": "code",
      "source": [
        "def crop_recom2(N,P,K,tem,hum,ph,rain):\n",
        "    crop = model.predict([[N,P,K,tem,hum,ph,rain]])\n",
        "    return crop"
      ],
      "metadata": {
        "id": "4PHcs4Z3KMx6"
      },
      "execution_count": 68,
      "outputs": []
    },
    {
      "cell_type": "code",
      "source": [
        "crop_recom(83, 45, 60, 28, 70.3, 7.0, 150.9)"
      ],
      "metadata": {
        "colab": {
          "base_uri": "https://localhost:8080/"
        },
        "id": "RqH30cR0PKcU",
        "outputId": "1bc63c16-ce16-4366-d318-29fb60ef9812"
      },
      "execution_count": 69,
      "outputs": [
        {
          "output_type": "stream",
          "name": "stderr",
          "text": [
            "/usr/local/lib/python3.10/dist-packages/sklearn/base.py:439: UserWarning: X does not have valid feature names, but RandomForestClassifier was fitted with feature names\n",
            "  warnings.warn(\n"
          ]
        },
        {
          "output_type": "execute_result",
          "data": {
            "text/plain": [
              "array(['jute'], dtype=object)"
            ]
          },
          "metadata": {},
          "execution_count": 69
        }
      ]
    }
  ]
}